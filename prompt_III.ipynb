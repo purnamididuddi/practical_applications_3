{
 "cells": [
  {
   "cell_type": "markdown",
   "metadata": {},
   "source": [
    "# Practical Application III: Comparing Classifiers\n",
    "\n",
    "**Overview**: In this practical application, your goal is to compare the performance of the classifiers we encountered in this section, namely K Nearest Neighbor, Logistic Regression, Decision Trees, and Support Vector Machines.  We will utilize a dataset related to marketing bank products over the telephone.  \n",
    "\n"
   ]
  },
  {
   "cell_type": "markdown",
   "metadata": {},
   "source": [
    "### Getting Started\n",
    "\n",
    "Our dataset comes from the UCI Machine Learning repository [link](https://archive.ics.uci.edu/ml/datasets/bank+marketing).  The data is from a Portugese banking institution and is a collection of the results of multiple marketing campaigns.  We will make use of the article accompanying the dataset [here](CRISP-DM-BANK.pdf) for more information on the data and features.\n",
    "\n"
   ]
  },
  {
   "cell_type": "markdown",
   "metadata": {},
   "source": [
    "### Problem 1: Understanding the Data\n",
    "\n",
    "To gain a better understanding of the data, please read the information provided in the UCI link above, and examine the **Materials and Methods** section of the paper.  How many marketing campaigns does this data represent?"
   ]
  },
  {
   "cell_type": "code",
   "execution_count": 282,
   "metadata": {},
   "outputs": [
    {
     "data": {
      "text/plain": [
       "17"
      ]
     },
     "execution_count": 282,
     "metadata": {},
     "output_type": "execute_result"
    }
   ],
   "source": [
    "17"
   ]
  },
  {
   "cell_type": "markdown",
   "metadata": {},
   "source": [
    "### Problem 2: Read in the Data\n",
    "\n",
    "Use pandas to read in the dataset `bank-additional-full.csv` and assign to a meaningful variable name."
   ]
  },
  {
   "cell_type": "code",
   "execution_count": 283,
   "metadata": {},
   "outputs": [],
   "source": [
    "import pandas as pd\n",
    "import numpy as np\n",
    "import scipy as sp\n",
    "import os\n",
    "import time"
   ]
  },
  {
   "cell_type": "code",
   "execution_count": 284,
   "metadata": {},
   "outputs": [],
   "source": [
    "#Visualization related imports\n",
    "import matplotlib.pyplot as plt\n",
    "import seaborn as sns\n",
    "import plotly.express as px\n",
    "from matplotlib.ticker import ScalarFormatter\n",
    "import plotly.graph_objects as go\n",
    "from plotly.subplots import make_subplots\n",
    "\n",
    "import matplotlib.pyplot as plt\n",
    "from sklearn.metrics import RocCurveDisplay\n",
    "\n",
    "# Transformations related imports\n",
    "from scipy.stats import boxcox"
   ]
  },
  {
   "cell_type": "code",
   "execution_count": 356,
   "metadata": {},
   "outputs": [],
   "source": [
    "# Modeling related imports\n",
    "from sklearn.preprocessing import PolynomialFeatures, OneHotEncoder, OrdinalEncoder\n",
    "from sklearn.feature_selection import SequentialFeatureSelector, SelectFromModel\n",
    "from sklearn.model_selection import train_test_split\n",
    "from sklearn.compose import make_column_selector, make_column_transformer\n",
    "from sklearn.linear_model import LogisticRegression\n",
    "from sklearn.neighbors import KNeighborsClassifier\n",
    "from sklearn.tree import DecisionTreeClassifier, export_text, plot_tree\n",
    "from sklearn.svm import SVC\n",
    "from sklearn.ensemble import RandomForestClassifier, AdaBoostClassifier, GradientBoostingClassifier\n",
    "from sklearn.linear_model import Ridge, LinearRegression, Lasso\n",
    "from sklearn.preprocessing import StandardScaler\n",
    "from sklearn.metrics import mean_squared_error, mean_absolute_error\n",
    "from sklearn.pipeline import Pipeline, make_pipeline\n",
    "from sklearn.compose import TransformedTargetRegressor, ColumnTransformer\n",
    "from sklearn.model_selection import GridSearchCV\n",
    "from sklearn.inspection import permutation_importance\n",
    "\n",
    "from sklearn.preprocessing import LabelBinarizer\n",
    "\n",
    "from sklearn.metrics import ConfusionMatrixDisplay, RocCurveDisplay\n",
    "from sklearn.metrics import accuracy_score, recall_score, precision_score\n",
    "from sklearn.metrics import f1_score, classification_report\n",
    "from sklearn.metrics import make_scorer\n",
    "\n",
    "from sklearn import set_config\n",
    "set_config(display=\"diagram\")"
   ]
  },
  {
   "cell_type": "code",
   "execution_count": 286,
   "metadata": {},
   "outputs": [],
   "source": [
    "# Ignore warnings\n",
    "import warnings\n",
    "warnings.filterwarnings('ignore')"
   ]
  },
  {
   "cell_type": "code",
   "execution_count": 287,
   "metadata": {},
   "outputs": [],
   "source": [
    "bank_df = pd.read_csv('data/bank-additional-full.csv', sep = ';')"
   ]
  },
  {
   "cell_type": "code",
   "execution_count": 288,
   "metadata": {},
   "outputs": [
    {
     "data": {
      "text/html": [
       "<div>\n",
       "<style scoped>\n",
       "    .dataframe tbody tr th:only-of-type {\n",
       "        vertical-align: middle;\n",
       "    }\n",
       "\n",
       "    .dataframe tbody tr th {\n",
       "        vertical-align: top;\n",
       "    }\n",
       "\n",
       "    .dataframe thead th {\n",
       "        text-align: right;\n",
       "    }\n",
       "</style>\n",
       "<table border=\"1\" class=\"dataframe\">\n",
       "  <thead>\n",
       "    <tr style=\"text-align: right;\">\n",
       "      <th></th>\n",
       "      <th>age</th>\n",
       "      <th>job</th>\n",
       "      <th>marital</th>\n",
       "      <th>education</th>\n",
       "      <th>default</th>\n",
       "      <th>housing</th>\n",
       "      <th>loan</th>\n",
       "      <th>contact</th>\n",
       "      <th>month</th>\n",
       "      <th>day_of_week</th>\n",
       "      <th>...</th>\n",
       "      <th>campaign</th>\n",
       "      <th>pdays</th>\n",
       "      <th>previous</th>\n",
       "      <th>poutcome</th>\n",
       "      <th>emp.var.rate</th>\n",
       "      <th>cons.price.idx</th>\n",
       "      <th>cons.conf.idx</th>\n",
       "      <th>euribor3m</th>\n",
       "      <th>nr.employed</th>\n",
       "      <th>y</th>\n",
       "    </tr>\n",
       "  </thead>\n",
       "  <tbody>\n",
       "    <tr>\n",
       "      <th>0</th>\n",
       "      <td>56</td>\n",
       "      <td>housemaid</td>\n",
       "      <td>married</td>\n",
       "      <td>basic.4y</td>\n",
       "      <td>no</td>\n",
       "      <td>no</td>\n",
       "      <td>no</td>\n",
       "      <td>telephone</td>\n",
       "      <td>may</td>\n",
       "      <td>mon</td>\n",
       "      <td>...</td>\n",
       "      <td>1</td>\n",
       "      <td>999</td>\n",
       "      <td>0</td>\n",
       "      <td>nonexistent</td>\n",
       "      <td>1.1</td>\n",
       "      <td>93.994</td>\n",
       "      <td>-36.4</td>\n",
       "      <td>4.857</td>\n",
       "      <td>5191.0</td>\n",
       "      <td>no</td>\n",
       "    </tr>\n",
       "    <tr>\n",
       "      <th>1</th>\n",
       "      <td>57</td>\n",
       "      <td>services</td>\n",
       "      <td>married</td>\n",
       "      <td>high.school</td>\n",
       "      <td>unknown</td>\n",
       "      <td>no</td>\n",
       "      <td>no</td>\n",
       "      <td>telephone</td>\n",
       "      <td>may</td>\n",
       "      <td>mon</td>\n",
       "      <td>...</td>\n",
       "      <td>1</td>\n",
       "      <td>999</td>\n",
       "      <td>0</td>\n",
       "      <td>nonexistent</td>\n",
       "      <td>1.1</td>\n",
       "      <td>93.994</td>\n",
       "      <td>-36.4</td>\n",
       "      <td>4.857</td>\n",
       "      <td>5191.0</td>\n",
       "      <td>no</td>\n",
       "    </tr>\n",
       "    <tr>\n",
       "      <th>2</th>\n",
       "      <td>37</td>\n",
       "      <td>services</td>\n",
       "      <td>married</td>\n",
       "      <td>high.school</td>\n",
       "      <td>no</td>\n",
       "      <td>yes</td>\n",
       "      <td>no</td>\n",
       "      <td>telephone</td>\n",
       "      <td>may</td>\n",
       "      <td>mon</td>\n",
       "      <td>...</td>\n",
       "      <td>1</td>\n",
       "      <td>999</td>\n",
       "      <td>0</td>\n",
       "      <td>nonexistent</td>\n",
       "      <td>1.1</td>\n",
       "      <td>93.994</td>\n",
       "      <td>-36.4</td>\n",
       "      <td>4.857</td>\n",
       "      <td>5191.0</td>\n",
       "      <td>no</td>\n",
       "    </tr>\n",
       "    <tr>\n",
       "      <th>3</th>\n",
       "      <td>40</td>\n",
       "      <td>admin.</td>\n",
       "      <td>married</td>\n",
       "      <td>basic.6y</td>\n",
       "      <td>no</td>\n",
       "      <td>no</td>\n",
       "      <td>no</td>\n",
       "      <td>telephone</td>\n",
       "      <td>may</td>\n",
       "      <td>mon</td>\n",
       "      <td>...</td>\n",
       "      <td>1</td>\n",
       "      <td>999</td>\n",
       "      <td>0</td>\n",
       "      <td>nonexistent</td>\n",
       "      <td>1.1</td>\n",
       "      <td>93.994</td>\n",
       "      <td>-36.4</td>\n",
       "      <td>4.857</td>\n",
       "      <td>5191.0</td>\n",
       "      <td>no</td>\n",
       "    </tr>\n",
       "    <tr>\n",
       "      <th>4</th>\n",
       "      <td>56</td>\n",
       "      <td>services</td>\n",
       "      <td>married</td>\n",
       "      <td>high.school</td>\n",
       "      <td>no</td>\n",
       "      <td>no</td>\n",
       "      <td>yes</td>\n",
       "      <td>telephone</td>\n",
       "      <td>may</td>\n",
       "      <td>mon</td>\n",
       "      <td>...</td>\n",
       "      <td>1</td>\n",
       "      <td>999</td>\n",
       "      <td>0</td>\n",
       "      <td>nonexistent</td>\n",
       "      <td>1.1</td>\n",
       "      <td>93.994</td>\n",
       "      <td>-36.4</td>\n",
       "      <td>4.857</td>\n",
       "      <td>5191.0</td>\n",
       "      <td>no</td>\n",
       "    </tr>\n",
       "  </tbody>\n",
       "</table>\n",
       "<p>5 rows × 21 columns</p>\n",
       "</div>"
      ],
      "text/plain": [
       "   age        job  marital    education  default housing loan    contact  \\\n",
       "0   56  housemaid  married     basic.4y       no      no   no  telephone   \n",
       "1   57   services  married  high.school  unknown      no   no  telephone   \n",
       "2   37   services  married  high.school       no     yes   no  telephone   \n",
       "3   40     admin.  married     basic.6y       no      no   no  telephone   \n",
       "4   56   services  married  high.school       no      no  yes  telephone   \n",
       "\n",
       "  month day_of_week  ...  campaign  pdays  previous     poutcome emp.var.rate  \\\n",
       "0   may         mon  ...         1    999         0  nonexistent          1.1   \n",
       "1   may         mon  ...         1    999         0  nonexistent          1.1   \n",
       "2   may         mon  ...         1    999         0  nonexistent          1.1   \n",
       "3   may         mon  ...         1    999         0  nonexistent          1.1   \n",
       "4   may         mon  ...         1    999         0  nonexistent          1.1   \n",
       "\n",
       "   cons.price.idx  cons.conf.idx  euribor3m  nr.employed   y  \n",
       "0          93.994          -36.4      4.857       5191.0  no  \n",
       "1          93.994          -36.4      4.857       5191.0  no  \n",
       "2          93.994          -36.4      4.857       5191.0  no  \n",
       "3          93.994          -36.4      4.857       5191.0  no  \n",
       "4          93.994          -36.4      4.857       5191.0  no  \n",
       "\n",
       "[5 rows x 21 columns]"
      ]
     },
     "execution_count": 288,
     "metadata": {},
     "output_type": "execute_result"
    }
   ],
   "source": [
    "bank_df.head()"
   ]
  },
  {
   "cell_type": "markdown",
   "metadata": {},
   "source": [
    "### Problem 3: Understanding the Features\n",
    "\n",
    "\n",
    "Examine the data description below, and determine if any of the features are missing values or need to be coerced to a different data type.\n",
    "\n",
    "\n",
    "```\n",
    "Input variables:\n",
    "# bank client data:\n",
    "1 - age (numeric)\n",
    "2 - job : type of job (categorical: 'admin.','blue-collar','entrepreneur','housemaid','management','retired','self-employed','services','student','technician','unemployed','unknown')\n",
    "3 - marital : marital status (categorical: 'divorced','married','single','unknown'; note: 'divorced' means divorced or widowed)\n",
    "4 - education (categorical: 'basic.4y','basic.6y','basic.9y','high.school','illiterate','professional.course','university.degree','unknown')\n",
    "5 - default: has credit in default? (categorical: 'no','yes','unknown')\n",
    "6 - housing: has housing loan? (categorical: 'no','yes','unknown')\n",
    "7 - loan: has personal loan? (categorical: 'no','yes','unknown')\n",
    "# related with the last contact of the current campaign:\n",
    "8 - contact: contact communication type (categorical: 'cellular','telephone')\n",
    "9 - month: last contact month of year (categorical: 'jan', 'feb', 'mar', ..., 'nov', 'dec')\n",
    "10 - day_of_week: last contact day of the week (categorical: 'mon','tue','wed','thu','fri')\n",
    "11 - duration: last contact duration, in seconds (numeric). Important note: this attribute highly affects the output target (e.g., if duration=0 then y='no'). Yet, the duration is not known before a call is performed. Also, after the end of the call y is obviously known. Thus, this input should only be included for benchmark purposes and should be discarded if the intention is to have a realistic predictive model.\n",
    "# other attributes:\n",
    "12 - campaign: number of contacts performed during this campaign and for this client (numeric, includes last contact)\n",
    "13 - pdays: number of days that passed by after the client was last contacted from a previous campaign (numeric; 999 means client was not previously contacted)\n",
    "14 - previous: number of contacts performed before this campaign and for this client (numeric)\n",
    "15 - poutcome: outcome of the previous marketing campaign (categorical: 'failure','nonexistent','success')\n",
    "# social and economic context attributes\n",
    "16 - emp.var.rate: employment variation rate - quarterly indicator (numeric)\n",
    "17 - cons.price.idx: consumer price index - monthly indicator (numeric)\n",
    "18 - cons.conf.idx: consumer confidence index - monthly indicator (numeric)\n",
    "19 - euribor3m: euribor 3 month rate - daily indicator (numeric)\n",
    "20 - nr.employed: number of employees - quarterly indicator (numeric)\n",
    "\n",
    "Output variable (desired target):\n",
    "21 - y - has the client subscribed a term deposit? (binary: 'yes','no')\n",
    "```\n",
    "\n"
   ]
  },
  {
   "cell_type": "code",
   "execution_count": 289,
   "metadata": {},
   "outputs": [],
   "source": [
    "## Some utility functions for data understanding\n",
    "\n",
    "# Display the standard details like head(), info(), describe() on the given dataframe\n",
    "def display_standard_details(df):\n",
    "    display(df.head())\n",
    "    display(df.info())\n",
    "    display(df.describe())\n",
    "    \n",
    "# Utility aggregate function\n",
    "def _get_null_pct(col):\n",
    "    return \"{:.2f}%\".format(col.isna().sum()*100/col.shape[0])\n",
    "\n",
    "# Utility function: Get unique column values\n",
    "def _get_unique_vals(col):\n",
    "    return col.unique()\n",
    "\n",
    "def _get_col_type(col):\n",
    "    return col.dtype\n",
    "\n",
    "# Display unique values in each column, number of unique values, percentage of null values\n",
    "# This information can be used while cleaning/preparing the data\n",
    "def display_meta_details(df):\n",
    "    meta_df = df.agg([_get_col_type, 'nunique', _get_unique_vals, _get_null_pct]).T\n",
    "    meta_df.columns = ['Type', 'Num-Unique-Values', 'Unique-Values', '%-of-Nulls']\n",
    "    display(meta_df)\n"
   ]
  },
  {
   "cell_type": "code",
   "execution_count": 290,
   "metadata": {},
   "outputs": [
    {
     "data": {
      "text/html": [
       "<div>\n",
       "<style scoped>\n",
       "    .dataframe tbody tr th:only-of-type {\n",
       "        vertical-align: middle;\n",
       "    }\n",
       "\n",
       "    .dataframe tbody tr th {\n",
       "        vertical-align: top;\n",
       "    }\n",
       "\n",
       "    .dataframe thead th {\n",
       "        text-align: right;\n",
       "    }\n",
       "</style>\n",
       "<table border=\"1\" class=\"dataframe\">\n",
       "  <thead>\n",
       "    <tr style=\"text-align: right;\">\n",
       "      <th></th>\n",
       "      <th>age</th>\n",
       "      <th>job</th>\n",
       "      <th>marital</th>\n",
       "      <th>education</th>\n",
       "      <th>default</th>\n",
       "      <th>housing</th>\n",
       "      <th>loan</th>\n",
       "      <th>contact</th>\n",
       "      <th>month</th>\n",
       "      <th>day_of_week</th>\n",
       "      <th>...</th>\n",
       "      <th>campaign</th>\n",
       "      <th>pdays</th>\n",
       "      <th>previous</th>\n",
       "      <th>poutcome</th>\n",
       "      <th>emp.var.rate</th>\n",
       "      <th>cons.price.idx</th>\n",
       "      <th>cons.conf.idx</th>\n",
       "      <th>euribor3m</th>\n",
       "      <th>nr.employed</th>\n",
       "      <th>y</th>\n",
       "    </tr>\n",
       "  </thead>\n",
       "  <tbody>\n",
       "    <tr>\n",
       "      <th>0</th>\n",
       "      <td>56</td>\n",
       "      <td>housemaid</td>\n",
       "      <td>married</td>\n",
       "      <td>basic.4y</td>\n",
       "      <td>no</td>\n",
       "      <td>no</td>\n",
       "      <td>no</td>\n",
       "      <td>telephone</td>\n",
       "      <td>may</td>\n",
       "      <td>mon</td>\n",
       "      <td>...</td>\n",
       "      <td>1</td>\n",
       "      <td>999</td>\n",
       "      <td>0</td>\n",
       "      <td>nonexistent</td>\n",
       "      <td>1.1</td>\n",
       "      <td>93.994</td>\n",
       "      <td>-36.4</td>\n",
       "      <td>4.857</td>\n",
       "      <td>5191.0</td>\n",
       "      <td>no</td>\n",
       "    </tr>\n",
       "    <tr>\n",
       "      <th>1</th>\n",
       "      <td>57</td>\n",
       "      <td>services</td>\n",
       "      <td>married</td>\n",
       "      <td>high.school</td>\n",
       "      <td>unknown</td>\n",
       "      <td>no</td>\n",
       "      <td>no</td>\n",
       "      <td>telephone</td>\n",
       "      <td>may</td>\n",
       "      <td>mon</td>\n",
       "      <td>...</td>\n",
       "      <td>1</td>\n",
       "      <td>999</td>\n",
       "      <td>0</td>\n",
       "      <td>nonexistent</td>\n",
       "      <td>1.1</td>\n",
       "      <td>93.994</td>\n",
       "      <td>-36.4</td>\n",
       "      <td>4.857</td>\n",
       "      <td>5191.0</td>\n",
       "      <td>no</td>\n",
       "    </tr>\n",
       "    <tr>\n",
       "      <th>2</th>\n",
       "      <td>37</td>\n",
       "      <td>services</td>\n",
       "      <td>married</td>\n",
       "      <td>high.school</td>\n",
       "      <td>no</td>\n",
       "      <td>yes</td>\n",
       "      <td>no</td>\n",
       "      <td>telephone</td>\n",
       "      <td>may</td>\n",
       "      <td>mon</td>\n",
       "      <td>...</td>\n",
       "      <td>1</td>\n",
       "      <td>999</td>\n",
       "      <td>0</td>\n",
       "      <td>nonexistent</td>\n",
       "      <td>1.1</td>\n",
       "      <td>93.994</td>\n",
       "      <td>-36.4</td>\n",
       "      <td>4.857</td>\n",
       "      <td>5191.0</td>\n",
       "      <td>no</td>\n",
       "    </tr>\n",
       "    <tr>\n",
       "      <th>3</th>\n",
       "      <td>40</td>\n",
       "      <td>admin.</td>\n",
       "      <td>married</td>\n",
       "      <td>basic.6y</td>\n",
       "      <td>no</td>\n",
       "      <td>no</td>\n",
       "      <td>no</td>\n",
       "      <td>telephone</td>\n",
       "      <td>may</td>\n",
       "      <td>mon</td>\n",
       "      <td>...</td>\n",
       "      <td>1</td>\n",
       "      <td>999</td>\n",
       "      <td>0</td>\n",
       "      <td>nonexistent</td>\n",
       "      <td>1.1</td>\n",
       "      <td>93.994</td>\n",
       "      <td>-36.4</td>\n",
       "      <td>4.857</td>\n",
       "      <td>5191.0</td>\n",
       "      <td>no</td>\n",
       "    </tr>\n",
       "    <tr>\n",
       "      <th>4</th>\n",
       "      <td>56</td>\n",
       "      <td>services</td>\n",
       "      <td>married</td>\n",
       "      <td>high.school</td>\n",
       "      <td>no</td>\n",
       "      <td>no</td>\n",
       "      <td>yes</td>\n",
       "      <td>telephone</td>\n",
       "      <td>may</td>\n",
       "      <td>mon</td>\n",
       "      <td>...</td>\n",
       "      <td>1</td>\n",
       "      <td>999</td>\n",
       "      <td>0</td>\n",
       "      <td>nonexistent</td>\n",
       "      <td>1.1</td>\n",
       "      <td>93.994</td>\n",
       "      <td>-36.4</td>\n",
       "      <td>4.857</td>\n",
       "      <td>5191.0</td>\n",
       "      <td>no</td>\n",
       "    </tr>\n",
       "  </tbody>\n",
       "</table>\n",
       "<p>5 rows × 21 columns</p>\n",
       "</div>"
      ],
      "text/plain": [
       "   age        job  marital    education  default housing loan    contact  \\\n",
       "0   56  housemaid  married     basic.4y       no      no   no  telephone   \n",
       "1   57   services  married  high.school  unknown      no   no  telephone   \n",
       "2   37   services  married  high.school       no     yes   no  telephone   \n",
       "3   40     admin.  married     basic.6y       no      no   no  telephone   \n",
       "4   56   services  married  high.school       no      no  yes  telephone   \n",
       "\n",
       "  month day_of_week  ...  campaign  pdays  previous     poutcome emp.var.rate  \\\n",
       "0   may         mon  ...         1    999         0  nonexistent          1.1   \n",
       "1   may         mon  ...         1    999         0  nonexistent          1.1   \n",
       "2   may         mon  ...         1    999         0  nonexistent          1.1   \n",
       "3   may         mon  ...         1    999         0  nonexistent          1.1   \n",
       "4   may         mon  ...         1    999         0  nonexistent          1.1   \n",
       "\n",
       "   cons.price.idx  cons.conf.idx  euribor3m  nr.employed   y  \n",
       "0          93.994          -36.4      4.857       5191.0  no  \n",
       "1          93.994          -36.4      4.857       5191.0  no  \n",
       "2          93.994          -36.4      4.857       5191.0  no  \n",
       "3          93.994          -36.4      4.857       5191.0  no  \n",
       "4          93.994          -36.4      4.857       5191.0  no  \n",
       "\n",
       "[5 rows x 21 columns]"
      ]
     },
     "metadata": {},
     "output_type": "display_data"
    },
    {
     "name": "stdout",
     "output_type": "stream",
     "text": [
      "<class 'pandas.core.frame.DataFrame'>\n",
      "RangeIndex: 41188 entries, 0 to 41187\n",
      "Data columns (total 21 columns):\n",
      " #   Column          Non-Null Count  Dtype  \n",
      "---  ------          --------------  -----  \n",
      " 0   age             41188 non-null  int64  \n",
      " 1   job             41188 non-null  object \n",
      " 2   marital         41188 non-null  object \n",
      " 3   education       41188 non-null  object \n",
      " 4   default         41188 non-null  object \n",
      " 5   housing         41188 non-null  object \n",
      " 6   loan            41188 non-null  object \n",
      " 7   contact         41188 non-null  object \n",
      " 8   month           41188 non-null  object \n",
      " 9   day_of_week     41188 non-null  object \n",
      " 10  duration        41188 non-null  int64  \n",
      " 11  campaign        41188 non-null  int64  \n",
      " 12  pdays           41188 non-null  int64  \n",
      " 13  previous        41188 non-null  int64  \n",
      " 14  poutcome        41188 non-null  object \n",
      " 15  emp.var.rate    41188 non-null  float64\n",
      " 16  cons.price.idx  41188 non-null  float64\n",
      " 17  cons.conf.idx   41188 non-null  float64\n",
      " 18  euribor3m       41188 non-null  float64\n",
      " 19  nr.employed     41188 non-null  float64\n",
      " 20  y               41188 non-null  object \n",
      "dtypes: float64(5), int64(5), object(11)\n",
      "memory usage: 6.6+ MB\n"
     ]
    },
    {
     "data": {
      "text/plain": [
       "None"
      ]
     },
     "metadata": {},
     "output_type": "display_data"
    },
    {
     "data": {
      "text/html": [
       "<div>\n",
       "<style scoped>\n",
       "    .dataframe tbody tr th:only-of-type {\n",
       "        vertical-align: middle;\n",
       "    }\n",
       "\n",
       "    .dataframe tbody tr th {\n",
       "        vertical-align: top;\n",
       "    }\n",
       "\n",
       "    .dataframe thead th {\n",
       "        text-align: right;\n",
       "    }\n",
       "</style>\n",
       "<table border=\"1\" class=\"dataframe\">\n",
       "  <thead>\n",
       "    <tr style=\"text-align: right;\">\n",
       "      <th></th>\n",
       "      <th>age</th>\n",
       "      <th>duration</th>\n",
       "      <th>campaign</th>\n",
       "      <th>pdays</th>\n",
       "      <th>previous</th>\n",
       "      <th>emp.var.rate</th>\n",
       "      <th>cons.price.idx</th>\n",
       "      <th>cons.conf.idx</th>\n",
       "      <th>euribor3m</th>\n",
       "      <th>nr.employed</th>\n",
       "    </tr>\n",
       "  </thead>\n",
       "  <tbody>\n",
       "    <tr>\n",
       "      <th>count</th>\n",
       "      <td>41188.00000</td>\n",
       "      <td>41188.000000</td>\n",
       "      <td>41188.000000</td>\n",
       "      <td>41188.000000</td>\n",
       "      <td>41188.000000</td>\n",
       "      <td>41188.000000</td>\n",
       "      <td>41188.000000</td>\n",
       "      <td>41188.000000</td>\n",
       "      <td>41188.000000</td>\n",
       "      <td>41188.000000</td>\n",
       "    </tr>\n",
       "    <tr>\n",
       "      <th>mean</th>\n",
       "      <td>40.02406</td>\n",
       "      <td>258.285010</td>\n",
       "      <td>2.567593</td>\n",
       "      <td>962.475454</td>\n",
       "      <td>0.172963</td>\n",
       "      <td>0.081886</td>\n",
       "      <td>93.575664</td>\n",
       "      <td>-40.502600</td>\n",
       "      <td>3.621291</td>\n",
       "      <td>5167.035911</td>\n",
       "    </tr>\n",
       "    <tr>\n",
       "      <th>std</th>\n",
       "      <td>10.42125</td>\n",
       "      <td>259.279249</td>\n",
       "      <td>2.770014</td>\n",
       "      <td>186.910907</td>\n",
       "      <td>0.494901</td>\n",
       "      <td>1.570960</td>\n",
       "      <td>0.578840</td>\n",
       "      <td>4.628198</td>\n",
       "      <td>1.734447</td>\n",
       "      <td>72.251528</td>\n",
       "    </tr>\n",
       "    <tr>\n",
       "      <th>min</th>\n",
       "      <td>17.00000</td>\n",
       "      <td>0.000000</td>\n",
       "      <td>1.000000</td>\n",
       "      <td>0.000000</td>\n",
       "      <td>0.000000</td>\n",
       "      <td>-3.400000</td>\n",
       "      <td>92.201000</td>\n",
       "      <td>-50.800000</td>\n",
       "      <td>0.634000</td>\n",
       "      <td>4963.600000</td>\n",
       "    </tr>\n",
       "    <tr>\n",
       "      <th>25%</th>\n",
       "      <td>32.00000</td>\n",
       "      <td>102.000000</td>\n",
       "      <td>1.000000</td>\n",
       "      <td>999.000000</td>\n",
       "      <td>0.000000</td>\n",
       "      <td>-1.800000</td>\n",
       "      <td>93.075000</td>\n",
       "      <td>-42.700000</td>\n",
       "      <td>1.344000</td>\n",
       "      <td>5099.100000</td>\n",
       "    </tr>\n",
       "    <tr>\n",
       "      <th>50%</th>\n",
       "      <td>38.00000</td>\n",
       "      <td>180.000000</td>\n",
       "      <td>2.000000</td>\n",
       "      <td>999.000000</td>\n",
       "      <td>0.000000</td>\n",
       "      <td>1.100000</td>\n",
       "      <td>93.749000</td>\n",
       "      <td>-41.800000</td>\n",
       "      <td>4.857000</td>\n",
       "      <td>5191.000000</td>\n",
       "    </tr>\n",
       "    <tr>\n",
       "      <th>75%</th>\n",
       "      <td>47.00000</td>\n",
       "      <td>319.000000</td>\n",
       "      <td>3.000000</td>\n",
       "      <td>999.000000</td>\n",
       "      <td>0.000000</td>\n",
       "      <td>1.400000</td>\n",
       "      <td>93.994000</td>\n",
       "      <td>-36.400000</td>\n",
       "      <td>4.961000</td>\n",
       "      <td>5228.100000</td>\n",
       "    </tr>\n",
       "    <tr>\n",
       "      <th>max</th>\n",
       "      <td>98.00000</td>\n",
       "      <td>4918.000000</td>\n",
       "      <td>56.000000</td>\n",
       "      <td>999.000000</td>\n",
       "      <td>7.000000</td>\n",
       "      <td>1.400000</td>\n",
       "      <td>94.767000</td>\n",
       "      <td>-26.900000</td>\n",
       "      <td>5.045000</td>\n",
       "      <td>5228.100000</td>\n",
       "    </tr>\n",
       "  </tbody>\n",
       "</table>\n",
       "</div>"
      ],
      "text/plain": [
       "               age      duration      campaign         pdays      previous  \\\n",
       "count  41188.00000  41188.000000  41188.000000  41188.000000  41188.000000   \n",
       "mean      40.02406    258.285010      2.567593    962.475454      0.172963   \n",
       "std       10.42125    259.279249      2.770014    186.910907      0.494901   \n",
       "min       17.00000      0.000000      1.000000      0.000000      0.000000   \n",
       "25%       32.00000    102.000000      1.000000    999.000000      0.000000   \n",
       "50%       38.00000    180.000000      2.000000    999.000000      0.000000   \n",
       "75%       47.00000    319.000000      3.000000    999.000000      0.000000   \n",
       "max       98.00000   4918.000000     56.000000    999.000000      7.000000   \n",
       "\n",
       "       emp.var.rate  cons.price.idx  cons.conf.idx     euribor3m   nr.employed  \n",
       "count  41188.000000    41188.000000   41188.000000  41188.000000  41188.000000  \n",
       "mean       0.081886       93.575664     -40.502600      3.621291   5167.035911  \n",
       "std        1.570960        0.578840       4.628198      1.734447     72.251528  \n",
       "min       -3.400000       92.201000     -50.800000      0.634000   4963.600000  \n",
       "25%       -1.800000       93.075000     -42.700000      1.344000   5099.100000  \n",
       "50%        1.100000       93.749000     -41.800000      4.857000   5191.000000  \n",
       "75%        1.400000       93.994000     -36.400000      4.961000   5228.100000  \n",
       "max        1.400000       94.767000     -26.900000      5.045000   5228.100000  "
      ]
     },
     "metadata": {},
     "output_type": "display_data"
    }
   ],
   "source": [
    "display_standard_details(bank_df)"
   ]
  },
  {
   "cell_type": "code",
   "execution_count": null,
   "metadata": {},
   "outputs": [],
   "source": []
  },
  {
   "cell_type": "code",
   "execution_count": 291,
   "metadata": {},
   "outputs": [
    {
     "data": {
      "text/html": [
       "<div>\n",
       "<style scoped>\n",
       "    .dataframe tbody tr th:only-of-type {\n",
       "        vertical-align: middle;\n",
       "    }\n",
       "\n",
       "    .dataframe tbody tr th {\n",
       "        vertical-align: top;\n",
       "    }\n",
       "\n",
       "    .dataframe thead th {\n",
       "        text-align: right;\n",
       "    }\n",
       "</style>\n",
       "<table border=\"1\" class=\"dataframe\">\n",
       "  <thead>\n",
       "    <tr style=\"text-align: right;\">\n",
       "      <th></th>\n",
       "      <th>Type</th>\n",
       "      <th>Num-Unique-Values</th>\n",
       "      <th>Unique-Values</th>\n",
       "      <th>%-of-Nulls</th>\n",
       "    </tr>\n",
       "  </thead>\n",
       "  <tbody>\n",
       "    <tr>\n",
       "      <th>age</th>\n",
       "      <td>int64</td>\n",
       "      <td>78</td>\n",
       "      <td>[56, 57, 37, 40, 45, 59, 41, 24, 25, 29, 35, 5...</td>\n",
       "      <td>0.00%</td>\n",
       "    </tr>\n",
       "    <tr>\n",
       "      <th>job</th>\n",
       "      <td>object</td>\n",
       "      <td>12</td>\n",
       "      <td>[housemaid, services, admin., blue-collar, tec...</td>\n",
       "      <td>0.00%</td>\n",
       "    </tr>\n",
       "    <tr>\n",
       "      <th>marital</th>\n",
       "      <td>object</td>\n",
       "      <td>4</td>\n",
       "      <td>[married, single, divorced, unknown]</td>\n",
       "      <td>0.00%</td>\n",
       "    </tr>\n",
       "    <tr>\n",
       "      <th>education</th>\n",
       "      <td>object</td>\n",
       "      <td>8</td>\n",
       "      <td>[basic.4y, high.school, basic.6y, basic.9y, pr...</td>\n",
       "      <td>0.00%</td>\n",
       "    </tr>\n",
       "    <tr>\n",
       "      <th>default</th>\n",
       "      <td>object</td>\n",
       "      <td>3</td>\n",
       "      <td>[no, unknown, yes]</td>\n",
       "      <td>0.00%</td>\n",
       "    </tr>\n",
       "    <tr>\n",
       "      <th>housing</th>\n",
       "      <td>object</td>\n",
       "      <td>3</td>\n",
       "      <td>[no, yes, unknown]</td>\n",
       "      <td>0.00%</td>\n",
       "    </tr>\n",
       "    <tr>\n",
       "      <th>loan</th>\n",
       "      <td>object</td>\n",
       "      <td>3</td>\n",
       "      <td>[no, yes, unknown]</td>\n",
       "      <td>0.00%</td>\n",
       "    </tr>\n",
       "    <tr>\n",
       "      <th>contact</th>\n",
       "      <td>object</td>\n",
       "      <td>2</td>\n",
       "      <td>[telephone, cellular]</td>\n",
       "      <td>0.00%</td>\n",
       "    </tr>\n",
       "    <tr>\n",
       "      <th>month</th>\n",
       "      <td>object</td>\n",
       "      <td>10</td>\n",
       "      <td>[may, jun, jul, aug, oct, nov, dec, mar, apr, ...</td>\n",
       "      <td>0.00%</td>\n",
       "    </tr>\n",
       "    <tr>\n",
       "      <th>day_of_week</th>\n",
       "      <td>object</td>\n",
       "      <td>5</td>\n",
       "      <td>[mon, tue, wed, thu, fri]</td>\n",
       "      <td>0.00%</td>\n",
       "    </tr>\n",
       "    <tr>\n",
       "      <th>duration</th>\n",
       "      <td>int64</td>\n",
       "      <td>1544</td>\n",
       "      <td>[261, 149, 226, 151, 307, 198, 139, 217, 380, ...</td>\n",
       "      <td>0.00%</td>\n",
       "    </tr>\n",
       "    <tr>\n",
       "      <th>campaign</th>\n",
       "      <td>int64</td>\n",
       "      <td>42</td>\n",
       "      <td>[1, 2, 3, 4, 5, 6, 7, 8, 9, 10, 11, 12, 13, 19...</td>\n",
       "      <td>0.00%</td>\n",
       "    </tr>\n",
       "    <tr>\n",
       "      <th>pdays</th>\n",
       "      <td>int64</td>\n",
       "      <td>27</td>\n",
       "      <td>[999, 6, 4, 3, 5, 1, 0, 10, 7, 8, 9, 11, 2, 12...</td>\n",
       "      <td>0.00%</td>\n",
       "    </tr>\n",
       "    <tr>\n",
       "      <th>previous</th>\n",
       "      <td>int64</td>\n",
       "      <td>8</td>\n",
       "      <td>[0, 1, 2, 3, 4, 5, 6, 7]</td>\n",
       "      <td>0.00%</td>\n",
       "    </tr>\n",
       "    <tr>\n",
       "      <th>poutcome</th>\n",
       "      <td>object</td>\n",
       "      <td>3</td>\n",
       "      <td>[nonexistent, failure, success]</td>\n",
       "      <td>0.00%</td>\n",
       "    </tr>\n",
       "    <tr>\n",
       "      <th>emp.var.rate</th>\n",
       "      <td>float64</td>\n",
       "      <td>10</td>\n",
       "      <td>[1.1, 1.4, -0.1, -0.2, -1.8, -2.9, -3.4, -3.0,...</td>\n",
       "      <td>0.00%</td>\n",
       "    </tr>\n",
       "    <tr>\n",
       "      <th>cons.price.idx</th>\n",
       "      <td>float64</td>\n",
       "      <td>26</td>\n",
       "      <td>[93.994, 94.465, 93.918, 93.444, 93.798, 93.2,...</td>\n",
       "      <td>0.00%</td>\n",
       "    </tr>\n",
       "    <tr>\n",
       "      <th>cons.conf.idx</th>\n",
       "      <td>float64</td>\n",
       "      <td>26</td>\n",
       "      <td>[-36.4, -41.8, -42.7, -36.1, -40.4, -42.0, -45...</td>\n",
       "      <td>0.00%</td>\n",
       "    </tr>\n",
       "    <tr>\n",
       "      <th>euribor3m</th>\n",
       "      <td>float64</td>\n",
       "      <td>316</td>\n",
       "      <td>[4.857, 4.856, 4.855, 4.859, 4.86, 4.858, 4.86...</td>\n",
       "      <td>0.00%</td>\n",
       "    </tr>\n",
       "    <tr>\n",
       "      <th>nr.employed</th>\n",
       "      <td>float64</td>\n",
       "      <td>11</td>\n",
       "      <td>[5191.0, 5228.1, 5195.8, 5176.3, 5099.1, 5076....</td>\n",
       "      <td>0.00%</td>\n",
       "    </tr>\n",
       "    <tr>\n",
       "      <th>y</th>\n",
       "      <td>object</td>\n",
       "      <td>2</td>\n",
       "      <td>[no, yes]</td>\n",
       "      <td>0.00%</td>\n",
       "    </tr>\n",
       "  </tbody>\n",
       "</table>\n",
       "</div>"
      ],
      "text/plain": [
       "                   Type Num-Unique-Values  \\\n",
       "age               int64                78   \n",
       "job              object                12   \n",
       "marital          object                 4   \n",
       "education        object                 8   \n",
       "default          object                 3   \n",
       "housing          object                 3   \n",
       "loan             object                 3   \n",
       "contact          object                 2   \n",
       "month            object                10   \n",
       "day_of_week      object                 5   \n",
       "duration          int64              1544   \n",
       "campaign          int64                42   \n",
       "pdays             int64                27   \n",
       "previous          int64                 8   \n",
       "poutcome         object                 3   \n",
       "emp.var.rate    float64                10   \n",
       "cons.price.idx  float64                26   \n",
       "cons.conf.idx   float64                26   \n",
       "euribor3m       float64               316   \n",
       "nr.employed     float64                11   \n",
       "y                object                 2   \n",
       "\n",
       "                                                    Unique-Values %-of-Nulls  \n",
       "age             [56, 57, 37, 40, 45, 59, 41, 24, 25, 29, 35, 5...      0.00%  \n",
       "job             [housemaid, services, admin., blue-collar, tec...      0.00%  \n",
       "marital                      [married, single, divorced, unknown]      0.00%  \n",
       "education       [basic.4y, high.school, basic.6y, basic.9y, pr...      0.00%  \n",
       "default                                        [no, unknown, yes]      0.00%  \n",
       "housing                                        [no, yes, unknown]      0.00%  \n",
       "loan                                           [no, yes, unknown]      0.00%  \n",
       "contact                                     [telephone, cellular]      0.00%  \n",
       "month           [may, jun, jul, aug, oct, nov, dec, mar, apr, ...      0.00%  \n",
       "day_of_week                             [mon, tue, wed, thu, fri]      0.00%  \n",
       "duration        [261, 149, 226, 151, 307, 198, 139, 217, 380, ...      0.00%  \n",
       "campaign        [1, 2, 3, 4, 5, 6, 7, 8, 9, 10, 11, 12, 13, 19...      0.00%  \n",
       "pdays           [999, 6, 4, 3, 5, 1, 0, 10, 7, 8, 9, 11, 2, 12...      0.00%  \n",
       "previous                                 [0, 1, 2, 3, 4, 5, 6, 7]      0.00%  \n",
       "poutcome                          [nonexistent, failure, success]      0.00%  \n",
       "emp.var.rate    [1.1, 1.4, -0.1, -0.2, -1.8, -2.9, -3.4, -3.0,...      0.00%  \n",
       "cons.price.idx  [93.994, 94.465, 93.918, 93.444, 93.798, 93.2,...      0.00%  \n",
       "cons.conf.idx   [-36.4, -41.8, -42.7, -36.1, -40.4, -42.0, -45...      0.00%  \n",
       "euribor3m       [4.857, 4.856, 4.855, 4.859, 4.86, 4.858, 4.86...      0.00%  \n",
       "nr.employed     [5191.0, 5228.1, 5195.8, 5176.3, 5099.1, 5076....      0.00%  \n",
       "y                                                       [no, yes]      0.00%  "
      ]
     },
     "metadata": {},
     "output_type": "display_data"
    }
   ],
   "source": [
    "display_meta_details(bank_df)"
   ]
  },
  {
   "cell_type": "markdown",
   "metadata": {},
   "source": [
    "#### Outcome of Problem 3:\n",
    "\n",
    "From the above meta details, it is clear that no column has any missing values, which is good.\n",
    "\n",
    "Regarding converting to a different data-type, I don't see a need to do that for any column."
   ]
  },
  {
   "cell_type": "code",
   "execution_count": null,
   "metadata": {},
   "outputs": [],
   "source": []
  },
  {
   "cell_type": "markdown",
   "metadata": {},
   "source": [
    "### Problem 4: Understanding the Task\n",
    "\n",
    "After examining the description and data, your goal now is to clearly state the *Business Objective* of the task.  State the objective below."
   ]
  },
  {
   "cell_type": "markdown",
   "metadata": {},
   "source": [
    "#### Business Objective:\n",
    "The dataset contains information from direct marketing campaigns of a Portuguese bank. It contains 3 types of information related to the clients:\n",
    "(a) Client personal information like Age, Job, Marital status, etc\n",
    "(b) Information pertaining to this client in the Current campaign\n",
    "(c) Information pertaining to this client in the previous campaings\n",
    "\n",
    "The business objective of the bank is very clear: Whether a given customer will subscribe or not, to the Term Deposit product that the bank is trying to sell."
   ]
  },
  {
   "cell_type": "code",
   "execution_count": null,
   "metadata": {},
   "outputs": [],
   "source": []
  },
  {
   "cell_type": "markdown",
   "metadata": {},
   "source": [
    "### Problem 5: Engineering Features\n",
    "\n",
    "Now that you understand your business objective, we will build a basic model to get started.  Before we can do this, we must work to encode the data.  Using just the bank information features (columns 1 - 7), prepare the features and target column for modeling with appropriate encoding and transformations."
   ]
  },
  {
   "cell_type": "code",
   "execution_count": 292,
   "metadata": {},
   "outputs": [],
   "source": [
    "target_map = {'no':0, 'yes':1}\n",
    "target_rev_map = {0:'no', 1:'yes'}\n",
    "\n",
    "X = bank_df[['age', 'job', 'marital', 'education', 'default', 'housing', 'loan']]\n",
    "y = bank_df['y'].map(target_map)\n",
    "\n",
    "# there are only 3 records with X['default'] = 'yes' out of thousands of records. \n",
    "# This is causing issues with cross-validation when the validation set doesn't contain \n",
    "# one of those; the transformer is confused. Deleting them\n",
    "recs_to_drop_ind = X.loc[X['default']=='yes'].index\n",
    "X = X.drop(index=recs_to_drop_ind)\n",
    "y = y.drop(index=recs_to_drop_ind)\n",
    "\n",
    "onehot_cols = ['job', 'marital', 'education', 'default', 'housing', 'loan']\n",
    "\n",
    "ohe_transformer = make_column_transformer(\n",
    "                            (OneHotEncoder(drop = 'if_binary'), onehot_cols),\n",
    "                            remainder=StandardScaler())\n",
    "\n"
   ]
  },
  {
   "cell_type": "code",
   "execution_count": null,
   "metadata": {},
   "outputs": [],
   "source": []
  },
  {
   "cell_type": "markdown",
   "metadata": {},
   "source": [
    "### Problem 6: Train/Test Split\n",
    "\n",
    "With your data prepared, split it into a train and test set."
   ]
  },
  {
   "cell_type": "code",
   "execution_count": 293,
   "metadata": {},
   "outputs": [
    {
     "name": "stdout",
     "output_type": "stream",
     "text": [
      "Trainset size:\t(28829, 7), (28829,)\n",
      "Testset size:\t(12356, 7), (12356,)\n"
     ]
    }
   ],
   "source": [
    "# Do 70/30 Train/test split\n",
    "test_size = 0.3\n",
    "X_train, X_test, y_train, y_test = train_test_split(X, y, test_size=test_size, random_state=1234, stratify=y)\n",
    "\n",
    "print(\"Trainset size:\\t{}, {}\".format(X_train.shape, y_train.shape))\n",
    "print(\"Testset size:\\t{}, {}\".format(X_test.shape, y_test.shape))"
   ]
  },
  {
   "cell_type": "code",
   "execution_count": null,
   "metadata": {},
   "outputs": [],
   "source": []
  },
  {
   "cell_type": "markdown",
   "metadata": {},
   "source": [
    "### Problem 7: A Baseline Model\n",
    "\n",
    "Before we build our first model, we want to establish a baseline.  What is the baseline performance that our classifier should aim to beat?"
   ]
  },
  {
   "cell_type": "code",
   "execution_count": 294,
   "metadata": {},
   "outputs": [],
   "source": [
    "# Baseline performance any classifier should aim to beat is 50%.\n",
    "# This is because there are 2 classes in the target variable. Anyone doing a random guess whether a client will\n",
    "# subscribe to the term deposit will achieve 50% success rate. \n",
    "# So, a predictive classifier should atleast be better than 50%, to be a useful tool"
   ]
  },
  {
   "cell_type": "code",
   "execution_count": null,
   "metadata": {},
   "outputs": [],
   "source": []
  },
  {
   "cell_type": "markdown",
   "metadata": {},
   "source": [
    "### Problem 8: A Simple Model\n",
    "\n",
    "Use Logistic Regression to build a basic model on your data.  "
   ]
  },
  {
   "cell_type": "code",
   "execution_count": 295,
   "metadata": {},
   "outputs": [
    {
     "data": {
      "text/html": [
       "<style>#sk-53e5dfd4-9549-4b16-a002-aa1349662d6a {color: black;background-color: white;}#sk-53e5dfd4-9549-4b16-a002-aa1349662d6a pre{padding: 0;}#sk-53e5dfd4-9549-4b16-a002-aa1349662d6a div.sk-toggleable {background-color: white;}#sk-53e5dfd4-9549-4b16-a002-aa1349662d6a label.sk-toggleable__label {cursor: pointer;display: block;width: 100%;margin-bottom: 0;padding: 0.3em;box-sizing: border-box;text-align: center;}#sk-53e5dfd4-9549-4b16-a002-aa1349662d6a label.sk-toggleable__label-arrow:before {content: \"▸\";float: left;margin-right: 0.25em;color: #696969;}#sk-53e5dfd4-9549-4b16-a002-aa1349662d6a label.sk-toggleable__label-arrow:hover:before {color: black;}#sk-53e5dfd4-9549-4b16-a002-aa1349662d6a div.sk-estimator:hover label.sk-toggleable__label-arrow:before {color: black;}#sk-53e5dfd4-9549-4b16-a002-aa1349662d6a div.sk-toggleable__content {max-height: 0;max-width: 0;overflow: hidden;text-align: left;background-color: #f0f8ff;}#sk-53e5dfd4-9549-4b16-a002-aa1349662d6a div.sk-toggleable__content pre {margin: 0.2em;color: black;border-radius: 0.25em;background-color: #f0f8ff;}#sk-53e5dfd4-9549-4b16-a002-aa1349662d6a input.sk-toggleable__control:checked~div.sk-toggleable__content {max-height: 200px;max-width: 100%;overflow: auto;}#sk-53e5dfd4-9549-4b16-a002-aa1349662d6a input.sk-toggleable__control:checked~label.sk-toggleable__label-arrow:before {content: \"▾\";}#sk-53e5dfd4-9549-4b16-a002-aa1349662d6a div.sk-estimator input.sk-toggleable__control:checked~label.sk-toggleable__label {background-color: #d4ebff;}#sk-53e5dfd4-9549-4b16-a002-aa1349662d6a div.sk-label input.sk-toggleable__control:checked~label.sk-toggleable__label {background-color: #d4ebff;}#sk-53e5dfd4-9549-4b16-a002-aa1349662d6a input.sk-hidden--visually {border: 0;clip: rect(1px 1px 1px 1px);clip: rect(1px, 1px, 1px, 1px);height: 1px;margin: -1px;overflow: hidden;padding: 0;position: absolute;width: 1px;}#sk-53e5dfd4-9549-4b16-a002-aa1349662d6a div.sk-estimator {font-family: monospace;background-color: #f0f8ff;border: 1px dotted black;border-radius: 0.25em;box-sizing: border-box;margin-bottom: 0.5em;}#sk-53e5dfd4-9549-4b16-a002-aa1349662d6a div.sk-estimator:hover {background-color: #d4ebff;}#sk-53e5dfd4-9549-4b16-a002-aa1349662d6a div.sk-parallel-item::after {content: \"\";width: 100%;border-bottom: 1px solid gray;flex-grow: 1;}#sk-53e5dfd4-9549-4b16-a002-aa1349662d6a div.sk-label:hover label.sk-toggleable__label {background-color: #d4ebff;}#sk-53e5dfd4-9549-4b16-a002-aa1349662d6a div.sk-serial::before {content: \"\";position: absolute;border-left: 1px solid gray;box-sizing: border-box;top: 2em;bottom: 0;left: 50%;}#sk-53e5dfd4-9549-4b16-a002-aa1349662d6a div.sk-serial {display: flex;flex-direction: column;align-items: center;background-color: white;padding-right: 0.2em;padding-left: 0.2em;}#sk-53e5dfd4-9549-4b16-a002-aa1349662d6a div.sk-item {z-index: 1;}#sk-53e5dfd4-9549-4b16-a002-aa1349662d6a div.sk-parallel {display: flex;align-items: stretch;justify-content: center;background-color: white;}#sk-53e5dfd4-9549-4b16-a002-aa1349662d6a div.sk-parallel::before {content: \"\";position: absolute;border-left: 1px solid gray;box-sizing: border-box;top: 2em;bottom: 0;left: 50%;}#sk-53e5dfd4-9549-4b16-a002-aa1349662d6a div.sk-parallel-item {display: flex;flex-direction: column;position: relative;background-color: white;}#sk-53e5dfd4-9549-4b16-a002-aa1349662d6a div.sk-parallel-item:first-child::after {align-self: flex-end;width: 50%;}#sk-53e5dfd4-9549-4b16-a002-aa1349662d6a div.sk-parallel-item:last-child::after {align-self: flex-start;width: 50%;}#sk-53e5dfd4-9549-4b16-a002-aa1349662d6a div.sk-parallel-item:only-child::after {width: 0;}#sk-53e5dfd4-9549-4b16-a002-aa1349662d6a div.sk-dashed-wrapped {border: 1px dashed gray;margin: 0 0.4em 0.5em 0.4em;box-sizing: border-box;padding-bottom: 0.4em;background-color: white;position: relative;}#sk-53e5dfd4-9549-4b16-a002-aa1349662d6a div.sk-label label {font-family: monospace;font-weight: bold;background-color: white;display: inline-block;line-height: 1.2em;}#sk-53e5dfd4-9549-4b16-a002-aa1349662d6a div.sk-label-container {position: relative;z-index: 2;text-align: center;}#sk-53e5dfd4-9549-4b16-a002-aa1349662d6a div.sk-container {/* jupyter's `normalize.less` sets `[hidden] { display: none; }` but bootstrap.min.css set `[hidden] { display: none !important; }` so we also need the `!important` here to be able to override the default hidden behavior on the sphinx rendered scikit-learn.org. See: https://github.com/scikit-learn/scikit-learn/issues/21755 */display: inline-block !important;position: relative;}#sk-53e5dfd4-9549-4b16-a002-aa1349662d6a div.sk-text-repr-fallback {display: none;}</style><div id=\"sk-53e5dfd4-9549-4b16-a002-aa1349662d6a\" class=\"sk-top-container\"><div class=\"sk-text-repr-fallback\"><pre>Pipeline(steps=[(&#x27;transformer&#x27;,\n",
       "                 ColumnTransformer(remainder=StandardScaler(),\n",
       "                                   transformers=[(&#x27;onehotencoder&#x27;,\n",
       "                                                  OneHotEncoder(drop=&#x27;if_binary&#x27;),\n",
       "                                                  [&#x27;job&#x27;, &#x27;marital&#x27;,\n",
       "                                                   &#x27;education&#x27;, &#x27;default&#x27;,\n",
       "                                                   &#x27;housing&#x27;, &#x27;loan&#x27;])])),\n",
       "                (&#x27;lgr&#x27;, LogisticRegression(random_state=1234))])</pre><b>Please rerun this cell to show the HTML repr or trust the notebook.</b></div><div class=\"sk-container\" hidden><div class=\"sk-item sk-dashed-wrapped\"><div class=\"sk-label-container\"><div class=\"sk-label sk-toggleable\"><input class=\"sk-toggleable__control sk-hidden--visually\" id=\"6a7a6787-2304-4680-8fd9-20a7e42283f8\" type=\"checkbox\" ><label for=\"6a7a6787-2304-4680-8fd9-20a7e42283f8\" class=\"sk-toggleable__label sk-toggleable__label-arrow\">Pipeline</label><div class=\"sk-toggleable__content\"><pre>Pipeline(steps=[(&#x27;transformer&#x27;,\n",
       "                 ColumnTransformer(remainder=StandardScaler(),\n",
       "                                   transformers=[(&#x27;onehotencoder&#x27;,\n",
       "                                                  OneHotEncoder(drop=&#x27;if_binary&#x27;),\n",
       "                                                  [&#x27;job&#x27;, &#x27;marital&#x27;,\n",
       "                                                   &#x27;education&#x27;, &#x27;default&#x27;,\n",
       "                                                   &#x27;housing&#x27;, &#x27;loan&#x27;])])),\n",
       "                (&#x27;lgr&#x27;, LogisticRegression(random_state=1234))])</pre></div></div></div><div class=\"sk-serial\"><div class=\"sk-item sk-dashed-wrapped\"><div class=\"sk-label-container\"><div class=\"sk-label sk-toggleable\"><input class=\"sk-toggleable__control sk-hidden--visually\" id=\"92b709dd-06ad-4716-b4be-ece91c48a056\" type=\"checkbox\" ><label for=\"92b709dd-06ad-4716-b4be-ece91c48a056\" class=\"sk-toggleable__label sk-toggleable__label-arrow\">transformer: ColumnTransformer</label><div class=\"sk-toggleable__content\"><pre>ColumnTransformer(remainder=StandardScaler(),\n",
       "                  transformers=[(&#x27;onehotencoder&#x27;,\n",
       "                                 OneHotEncoder(drop=&#x27;if_binary&#x27;),\n",
       "                                 [&#x27;job&#x27;, &#x27;marital&#x27;, &#x27;education&#x27;, &#x27;default&#x27;,\n",
       "                                  &#x27;housing&#x27;, &#x27;loan&#x27;])])</pre></div></div></div><div class=\"sk-parallel\"><div class=\"sk-parallel-item\"><div class=\"sk-item\"><div class=\"sk-label-container\"><div class=\"sk-label sk-toggleable\"><input class=\"sk-toggleable__control sk-hidden--visually\" id=\"bbf6fd8f-11aa-4048-ac8c-c3f8e3def1e1\" type=\"checkbox\" ><label for=\"bbf6fd8f-11aa-4048-ac8c-c3f8e3def1e1\" class=\"sk-toggleable__label sk-toggleable__label-arrow\">onehotencoder</label><div class=\"sk-toggleable__content\"><pre>[&#x27;job&#x27;, &#x27;marital&#x27;, &#x27;education&#x27;, &#x27;default&#x27;, &#x27;housing&#x27;, &#x27;loan&#x27;]</pre></div></div></div><div class=\"sk-serial\"><div class=\"sk-item\"><div class=\"sk-estimator sk-toggleable\"><input class=\"sk-toggleable__control sk-hidden--visually\" id=\"a646c4c6-861b-4539-bc74-ae7b7325f3c8\" type=\"checkbox\" ><label for=\"a646c4c6-861b-4539-bc74-ae7b7325f3c8\" class=\"sk-toggleable__label sk-toggleable__label-arrow\">OneHotEncoder</label><div class=\"sk-toggleable__content\"><pre>OneHotEncoder(drop=&#x27;if_binary&#x27;)</pre></div></div></div></div></div></div><div class=\"sk-parallel-item\"><div class=\"sk-item\"><div class=\"sk-label-container\"><div class=\"sk-label sk-toggleable\"><input class=\"sk-toggleable__control sk-hidden--visually\" id=\"588a5d76-8fd1-41f4-a70a-64eae36e7e28\" type=\"checkbox\" ><label for=\"588a5d76-8fd1-41f4-a70a-64eae36e7e28\" class=\"sk-toggleable__label sk-toggleable__label-arrow\">remainder</label><div class=\"sk-toggleable__content\"><pre>[&#x27;age&#x27;]</pre></div></div></div><div class=\"sk-serial\"><div class=\"sk-item\"><div class=\"sk-estimator sk-toggleable\"><input class=\"sk-toggleable__control sk-hidden--visually\" id=\"082002fa-61f9-4388-bbd1-818413acc4a0\" type=\"checkbox\" ><label for=\"082002fa-61f9-4388-bbd1-818413acc4a0\" class=\"sk-toggleable__label sk-toggleable__label-arrow\">StandardScaler</label><div class=\"sk-toggleable__content\"><pre>StandardScaler()</pre></div></div></div></div></div></div></div></div><div class=\"sk-item\"><div class=\"sk-estimator sk-toggleable\"><input class=\"sk-toggleable__control sk-hidden--visually\" id=\"ec6e7feb-8b1d-4ff2-b664-7da11ce3cd0a\" type=\"checkbox\" ><label for=\"ec6e7feb-8b1d-4ff2-b664-7da11ce3cd0a\" class=\"sk-toggleable__label sk-toggleable__label-arrow\">LogisticRegression</label><div class=\"sk-toggleable__content\"><pre>LogisticRegression(random_state=1234)</pre></div></div></div></div></div></div></div>"
      ],
      "text/plain": [
       "Pipeline(steps=[('transformer',\n",
       "                 ColumnTransformer(remainder=StandardScaler(),\n",
       "                                   transformers=[('onehotencoder',\n",
       "                                                  OneHotEncoder(drop='if_binary'),\n",
       "                                                  ['job', 'marital',\n",
       "                                                   'education', 'default',\n",
       "                                                   'housing', 'loan'])])),\n",
       "                ('lgr', LogisticRegression(random_state=1234))])"
      ]
     },
     "metadata": {},
     "output_type": "display_data"
    }
   ],
   "source": [
    "model1 = Pipeline([('transformer', ohe_transformer),\n",
    "                     ('lgr', LogisticRegression(random_state=1234))])\n",
    "t0 = time.time()\n",
    "model1.fit(X_train, y_train)\n",
    "t1 = time.time()\n",
    "\n",
    "model1_fittime = \"{} sec\".format(np.round((t1 - t0), decimals=2))\n",
    "display(model1)"
   ]
  },
  {
   "cell_type": "markdown",
   "metadata": {},
   "source": [
    "### Problem 9: Score the Model\n",
    "\n",
    "What is the accuracy of your model?"
   ]
  },
  {
   "cell_type": "code",
   "execution_count": 296,
   "metadata": {},
   "outputs": [],
   "source": [
    "# Utility functions\n",
    "def print_train_test_evaluation(estimator, X_trainset, y_trainset, X_testset, y_testset, descr):\n",
    "    curmodel_acc_train = round(accuracy_score(y_trainset, estimator.predict(X_trainset))*100, 2)\n",
    "    curmodel_acc_test  = round(accuracy_score(y_testset, estimator.predict(X_testset))*100, 2)\n",
    "    curmodel_f1_test   = round(f1_score(y_testset, estimator.predict(X_testset), average='weighted')*100, 2)\n",
    "\n",
    "    print(f'{descr} accuracy on train-data:\\t{curmodel_acc_train}')\n",
    "    print(f'{descr} accuracy on test-data:\\t{curmodel_acc_test}')\n",
    "    print(f'{descr} F1 score on test-data:\\t{curmodel_f1_test}')\n",
    "    \n",
    "    y_curpreds = estimator.predict(X_testset)\n",
    "    print(classification_report(y_testset, y_curpreds))\n",
    "    \n",
    "    return curmodel_acc_train,curmodel_acc_test,curmodel_f1_test"
   ]
  },
  {
   "cell_type": "code",
   "execution_count": 297,
   "metadata": {},
   "outputs": [
    {
     "name": "stdout",
     "output_type": "stream",
     "text": [
      "Model 1: Basic logistic regression accuracy on train-data:\t88.73\n",
      "Model 1: Basic logistic regression accuracy on test-data:\t88.73\n",
      "Model 1: Basic logistic regression F1 score on test-data:\t83.44\n",
      "              precision    recall  f1-score   support\n",
      "\n",
      "           0       0.89      1.00      0.94     10964\n",
      "           1       0.00      0.00      0.00      1392\n",
      "\n",
      "    accuracy                           0.89     12356\n",
      "   macro avg       0.44      0.50      0.47     12356\n",
      "weighted avg       0.79      0.89      0.83     12356\n",
      "\n"
     ]
    }
   ],
   "source": [
    "model1_train_acc, model1_test_acc, model1_f1_score = \\\n",
    "    print_train_test_evaluation(model1, X_train, y_train, X_test, y_test, \"Model 1: Basic logistic regression\")"
   ]
  },
  {
   "cell_type": "code",
   "execution_count": 298,
   "metadata": {},
   "outputs": [],
   "source": [
    "# I'll maintain results of the models in the below list of lists\n",
    "# Each entry will be a list with format: \n",
    "#   ['Model', 'Train Time', 'Train Accuracy', 'Test Accuracy']\n",
    "results = []"
   ]
  },
  {
   "cell_type": "code",
   "execution_count": 299,
   "metadata": {},
   "outputs": [],
   "source": [
    "results.append(['Basic Logistic Regression', model1_fittime, model1_train_acc, model1_test_acc])"
   ]
  },
  {
   "cell_type": "code",
   "execution_count": 300,
   "metadata": {},
   "outputs": [
    {
     "data": {
      "image/png": "[encoded data removed]",
      "text/plain": [
       "<Figure size 432x432 with 2 Axes>"
      ]
     },
     "metadata": {
      "needs_background": "light"
     },
     "output_type": "display_data"
    }
   ],
   "source": [
    "fig, axes = plt.subplots( figsize=(6, 6))\n",
    "ConfusionMatrixDisplay.from_predictions(y_test, model1.predict(X_test), ax=axes);"
   ]
  },
  {
   "cell_type": "code",
   "execution_count": null,
   "metadata": {},
   "outputs": [],
   "source": []
  },
  {
   "cell_type": "markdown",
   "metadata": {},
   "source": [
    "### Problem 10: Model Comparisons\n",
    "\n",
    "Now, we aim to compare the performance of the Logistic Regression model to our KNN algorithm, Decision Tree, and SVM models.  Using the default settings for each of the models, fit and score each.  Also, be sure to compare the fit time of each of the models.  Present your findings in a `DataFrame` similar to that below:\n",
    "\n",
    "| Model | Train Time | Train Accuracy | Test Accuracy |\n",
    "| ----- | ---------- | -------------  | -----------   |\n",
    "|     |    |.     |.     |"
   ]
  },
  {
   "cell_type": "code",
   "execution_count": 301,
   "metadata": {},
   "outputs": [
    {
     "data": {
      "text/html": [
       "<style>#sk-e8947788-51b2-463d-ae8b-ff90ca9f7db6 {color: black;background-color: white;}#sk-e8947788-51b2-463d-ae8b-ff90ca9f7db6 pre{padding: 0;}#sk-e8947788-51b2-463d-ae8b-ff90ca9f7db6 div.sk-toggleable {background-color: white;}#sk-e8947788-51b2-463d-ae8b-ff90ca9f7db6 label.sk-toggleable__label {cursor: pointer;display: block;width: 100%;margin-bottom: 0;padding: 0.3em;box-sizing: border-box;text-align: center;}#sk-e8947788-51b2-463d-ae8b-ff90ca9f7db6 label.sk-toggleable__label-arrow:before {content: \"▸\";float: left;margin-right: 0.25em;color: #696969;}#sk-e8947788-51b2-463d-ae8b-ff90ca9f7db6 label.sk-toggleable__label-arrow:hover:before {color: black;}#sk-e8947788-51b2-463d-ae8b-ff90ca9f7db6 div.sk-estimator:hover label.sk-toggleable__label-arrow:before {color: black;}#sk-e8947788-51b2-463d-ae8b-ff90ca9f7db6 div.sk-toggleable__content {max-height: 0;max-width: 0;overflow: hidden;text-align: left;background-color: #f0f8ff;}#sk-e8947788-51b2-463d-ae8b-ff90ca9f7db6 div.sk-toggleable__content pre {margin: 0.2em;color: black;border-radius: 0.25em;background-color: #f0f8ff;}#sk-e8947788-51b2-463d-ae8b-ff90ca9f7db6 input.sk-toggleable__control:checked~div.sk-toggleable__content {max-height: 200px;max-width: 100%;overflow: auto;}#sk-e8947788-51b2-463d-ae8b-ff90ca9f7db6 input.sk-toggleable__control:checked~label.sk-toggleable__label-arrow:before {content: \"▾\";}#sk-e8947788-51b2-463d-ae8b-ff90ca9f7db6 div.sk-estimator input.sk-toggleable__control:checked~label.sk-toggleable__label {background-color: #d4ebff;}#sk-e8947788-51b2-463d-ae8b-ff90ca9f7db6 div.sk-label input.sk-toggleable__control:checked~label.sk-toggleable__label {background-color: #d4ebff;}#sk-e8947788-51b2-463d-ae8b-ff90ca9f7db6 input.sk-hidden--visually {border: 0;clip: rect(1px 1px 1px 1px);clip: rect(1px, 1px, 1px, 1px);height: 1px;margin: -1px;overflow: hidden;padding: 0;position: absolute;width: 1px;}#sk-e8947788-51b2-463d-ae8b-ff90ca9f7db6 div.sk-estimator {font-family: monospace;background-color: #f0f8ff;border: 1px dotted black;border-radius: 0.25em;box-sizing: border-box;margin-bottom: 0.5em;}#sk-e8947788-51b2-463d-ae8b-ff90ca9f7db6 div.sk-estimator:hover {background-color: #d4ebff;}#sk-e8947788-51b2-463d-ae8b-ff90ca9f7db6 div.sk-parallel-item::after {content: \"\";width: 100%;border-bottom: 1px solid gray;flex-grow: 1;}#sk-e8947788-51b2-463d-ae8b-ff90ca9f7db6 div.sk-label:hover label.sk-toggleable__label {background-color: #d4ebff;}#sk-e8947788-51b2-463d-ae8b-ff90ca9f7db6 div.sk-serial::before {content: \"\";position: absolute;border-left: 1px solid gray;box-sizing: border-box;top: 2em;bottom: 0;left: 50%;}#sk-e8947788-51b2-463d-ae8b-ff90ca9f7db6 div.sk-serial {display: flex;flex-direction: column;align-items: center;background-color: white;padding-right: 0.2em;padding-left: 0.2em;}#sk-e8947788-51b2-463d-ae8b-ff90ca9f7db6 div.sk-item {z-index: 1;}#sk-e8947788-51b2-463d-ae8b-ff90ca9f7db6 div.sk-parallel {display: flex;align-items: stretch;justify-content: center;background-color: white;}#sk-e8947788-51b2-463d-ae8b-ff90ca9f7db6 div.sk-parallel::before {content: \"\";position: absolute;border-left: 1px solid gray;box-sizing: border-box;top: 2em;bottom: 0;left: 50%;}#sk-e8947788-51b2-463d-ae8b-ff90ca9f7db6 div.sk-parallel-item {display: flex;flex-direction: column;position: relative;background-color: white;}#sk-e8947788-51b2-463d-ae8b-ff90ca9f7db6 div.sk-parallel-item:first-child::after {align-self: flex-end;width: 50%;}#sk-e8947788-51b2-463d-ae8b-ff90ca9f7db6 div.sk-parallel-item:last-child::after {align-self: flex-start;width: 50%;}#sk-e8947788-51b2-463d-ae8b-ff90ca9f7db6 div.sk-parallel-item:only-child::after {width: 0;}#sk-e8947788-51b2-463d-ae8b-ff90ca9f7db6 div.sk-dashed-wrapped {border: 1px dashed gray;margin: 0 0.4em 0.5em 0.4em;box-sizing: border-box;padding-bottom: 0.4em;background-color: white;position: relative;}#sk-e8947788-51b2-463d-ae8b-ff90ca9f7db6 div.sk-label label {font-family: monospace;font-weight: bold;background-color: white;display: inline-block;line-height: 1.2em;}#sk-e8947788-51b2-463d-ae8b-ff90ca9f7db6 div.sk-label-container {position: relative;z-index: 2;text-align: center;}#sk-e8947788-51b2-463d-ae8b-ff90ca9f7db6 div.sk-container {/* jupyter's `normalize.less` sets `[hidden] { display: none; }` but bootstrap.min.css set `[hidden] { display: none !important; }` so we also need the `!important` here to be able to override the default hidden behavior on the sphinx rendered scikit-learn.org. See: https://github.com/scikit-learn/scikit-learn/issues/21755 */display: inline-block !important;position: relative;}#sk-e8947788-51b2-463d-ae8b-ff90ca9f7db6 div.sk-text-repr-fallback {display: none;}</style><div id=\"sk-e8947788-51b2-463d-ae8b-ff90ca9f7db6\" class=\"sk-top-container\"><div class=\"sk-text-repr-fallback\"><pre>Pipeline(steps=[(&#x27;transformer&#x27;,\n",
       "                 ColumnTransformer(remainder=StandardScaler(),\n",
       "                                   transformers=[(&#x27;onehotencoder&#x27;,\n",
       "                                                  OneHotEncoder(drop=&#x27;if_binary&#x27;),\n",
       "                                                  [&#x27;job&#x27;, &#x27;marital&#x27;,\n",
       "                                                   &#x27;education&#x27;, &#x27;default&#x27;,\n",
       "                                                   &#x27;housing&#x27;, &#x27;loan&#x27;])])),\n",
       "                (&#x27;knn&#x27;, KNeighborsClassifier())])</pre><b>Please rerun this cell to show the HTML repr or trust the notebook.</b></div><div class=\"sk-container\" hidden><div class=\"sk-item sk-dashed-wrapped\"><div class=\"sk-label-container\"><div class=\"sk-label sk-toggleable\"><input class=\"sk-toggleable__control sk-hidden--visually\" id=\"a273e46f-0749-4c3b-8fe1-aded9afe6e51\" type=\"checkbox\" ><label for=\"a273e46f-0749-4c3b-8fe1-aded9afe6e51\" class=\"sk-toggleable__label sk-toggleable__label-arrow\">Pipeline</label><div class=\"sk-toggleable__content\"><pre>Pipeline(steps=[(&#x27;transformer&#x27;,\n",
       "                 ColumnTransformer(remainder=StandardScaler(),\n",
       "                                   transformers=[(&#x27;onehotencoder&#x27;,\n",
       "                                                  OneHotEncoder(drop=&#x27;if_binary&#x27;),\n",
       "                                                  [&#x27;job&#x27;, &#x27;marital&#x27;,\n",
       "                                                   &#x27;education&#x27;, &#x27;default&#x27;,\n",
       "                                                   &#x27;housing&#x27;, &#x27;loan&#x27;])])),\n",
       "                (&#x27;knn&#x27;, KNeighborsClassifier())])</pre></div></div></div><div class=\"sk-serial\"><div class=\"sk-item sk-dashed-wrapped\"><div class=\"sk-label-container\"><div class=\"sk-label sk-toggleable\"><input class=\"sk-toggleable__control sk-hidden--visually\" id=\"f887905c-4f3e-4344-93a5-a971c9532e07\" type=\"checkbox\" ><label for=\"f887905c-4f3e-4344-93a5-a971c9532e07\" class=\"sk-toggleable__label sk-toggleable__label-arrow\">transformer: ColumnTransformer</label><div class=\"sk-toggleable__content\"><pre>ColumnTransformer(remainder=StandardScaler(),\n",
       "                  transformers=[(&#x27;onehotencoder&#x27;,\n",
       "                                 OneHotEncoder(drop=&#x27;if_binary&#x27;),\n",
       "                                 [&#x27;job&#x27;, &#x27;marital&#x27;, &#x27;education&#x27;, &#x27;default&#x27;,\n",
       "                                  &#x27;housing&#x27;, &#x27;loan&#x27;])])</pre></div></div></div><div class=\"sk-parallel\"><div class=\"sk-parallel-item\"><div class=\"sk-item\"><div class=\"sk-label-container\"><div class=\"sk-label sk-toggleable\"><input class=\"sk-toggleable__control sk-hidden--visually\" id=\"1da41fdb-58f8-4e52-87c6-ebaa052d5f18\" type=\"checkbox\" ><label for=\"1da41fdb-58f8-4e52-87c6-ebaa052d5f18\" class=\"sk-toggleable__label sk-toggleable__label-arrow\">onehotencoder</label><div class=\"sk-toggleable__content\"><pre>[&#x27;job&#x27;, &#x27;marital&#x27;, &#x27;education&#x27;, &#x27;default&#x27;, &#x27;housing&#x27;, &#x27;loan&#x27;]</pre></div></div></div><div class=\"sk-serial\"><div class=\"sk-item\"><div class=\"sk-estimator sk-toggleable\"><input class=\"sk-toggleable__control sk-hidden--visually\" id=\"f18b24df-1bb8-4664-8232-a58664fbe4c6\" type=\"checkbox\" ><label for=\"f18b24df-1bb8-4664-8232-a58664fbe4c6\" class=\"sk-toggleable__label sk-toggleable__label-arrow\">OneHotEncoder</label><div class=\"sk-toggleable__content\"><pre>OneHotEncoder(drop=&#x27;if_binary&#x27;)</pre></div></div></div></div></div></div><div class=\"sk-parallel-item\"><div class=\"sk-item\"><div class=\"sk-label-container\"><div class=\"sk-label sk-toggleable\"><input class=\"sk-toggleable__control sk-hidden--visually\" id=\"2551f8b7-c828-47e6-94ea-de9f53423aa7\" type=\"checkbox\" ><label for=\"2551f8b7-c828-47e6-94ea-de9f53423aa7\" class=\"sk-toggleable__label sk-toggleable__label-arrow\">remainder</label><div class=\"sk-toggleable__content\"><pre>[&#x27;age&#x27;]</pre></div></div></div><div class=\"sk-serial\"><div class=\"sk-item\"><div class=\"sk-estimator sk-toggleable\"><input class=\"sk-toggleable__control sk-hidden--visually\" id=\"037293c6-1d08-4738-83ff-2deee34d52ed\" type=\"checkbox\" ><label for=\"037293c6-1d08-4738-83ff-2deee34d52ed\" class=\"sk-toggleable__label sk-toggleable__label-arrow\">StandardScaler</label><div class=\"sk-toggleable__content\"><pre>StandardScaler()</pre></div></div></div></div></div></div></div></div><div class=\"sk-item\"><div class=\"sk-estimator sk-toggleable\"><input class=\"sk-toggleable__control sk-hidden--visually\" id=\"76f53dd4-1597-4845-b223-f837bff9d626\" type=\"checkbox\" ><label for=\"76f53dd4-1597-4845-b223-f837bff9d626\" class=\"sk-toggleable__label sk-toggleable__label-arrow\">KNeighborsClassifier</label><div class=\"sk-toggleable__content\"><pre>KNeighborsClassifier()</pre></div></div></div></div></div></div></div>"
      ],
      "text/plain": [
       "Pipeline(steps=[('transformer',\n",
       "                 ColumnTransformer(remainder=StandardScaler(),\n",
       "                                   transformers=[('onehotencoder',\n",
       "                                                  OneHotEncoder(drop='if_binary'),\n",
       "                                                  ['job', 'marital',\n",
       "                                                   'education', 'default',\n",
       "                                                   'housing', 'loan'])])),\n",
       "                ('knn', KNeighborsClassifier())])"
      ]
     },
     "metadata": {},
     "output_type": "display_data"
    }
   ],
   "source": [
    "# Model 2: kNN\n",
    "model2 = Pipeline([('transformer', ohe_transformer),\n",
    "                     ('knn', KNeighborsClassifier())])\n",
    "t0 = time.time()\n",
    "model2.fit(X_train, y_train)\n",
    "t1 = time.time()\n",
    "\n",
    "model2_fittime = \"{} sec\".format(np.round((t1 - t0), decimals=2))\n",
    "display(model2)"
   ]
  },
  {
   "cell_type": "code",
   "execution_count": 302,
   "metadata": {},
   "outputs": [
    {
     "name": "stdout",
     "output_type": "stream",
     "text": [
      "Model 2: Basic kNN accuracy on train-data:\t89.08\n",
      "Model 2: Basic kNN accuracy on test-data:\t87.71\n",
      "Model 2: Basic kNN F1 score on test-data:\t83.97\n",
      "              precision    recall  f1-score   support\n",
      "\n",
      "           0       0.89      0.98      0.93     10964\n",
      "           1       0.28      0.06      0.10      1392\n",
      "\n",
      "    accuracy                           0.88     12356\n",
      "   macro avg       0.59      0.52      0.52     12356\n",
      "weighted avg       0.82      0.88      0.84     12356\n",
      "\n"
     ]
    }
   ],
   "source": [
    "model2_train_acc, model2_test_acc, model2_f1_score = \\\n",
    "    print_train_test_evaluation(model2, X_train, y_train, X_test, y_test, \"Model 2: Basic kNN\")"
   ]
  },
  {
   "cell_type": "code",
   "execution_count": 303,
   "metadata": {},
   "outputs": [],
   "source": [
    "results.append(['Basic kNN', model2_fittime, model2_train_acc, model2_test_acc])"
   ]
  },
  {
   "cell_type": "code",
   "execution_count": 304,
   "metadata": {},
   "outputs": [
    {
     "data": {
      "image/png": "[encoded data removed]",
      "text/plain": [
       "<Figure size 432x432 with 2 Axes>"
      ]
     },
     "metadata": {
      "needs_background": "light"
     },
     "output_type": "display_data"
    }
   ],
   "source": [
    "fig, axes = plt.subplots( figsize=(6, 6))\n",
    "ConfusionMatrixDisplay.from_predictions(y_test, model2.predict(X_test), ax=axes);"
   ]
  },
  {
   "cell_type": "code",
   "execution_count": null,
   "metadata": {},
   "outputs": [],
   "source": []
  },
  {
   "cell_type": "code",
   "execution_count": 305,
   "metadata": {},
   "outputs": [
    {
     "data": {
      "text/html": [
       "<style>#sk-bbe323f0-aaf4-44f2-822a-c40b2e3a9489 {color: black;background-color: white;}#sk-bbe323f0-aaf4-44f2-822a-c40b2e3a9489 pre{padding: 0;}#sk-bbe323f0-aaf4-44f2-822a-c40b2e3a9489 div.sk-toggleable {background-color: white;}#sk-bbe323f0-aaf4-44f2-822a-c40b2e3a9489 label.sk-toggleable__label {cursor: pointer;display: block;width: 100%;margin-bottom: 0;padding: 0.3em;box-sizing: border-box;text-align: center;}#sk-bbe323f0-aaf4-44f2-822a-c40b2e3a9489 label.sk-toggleable__label-arrow:before {content: \"▸\";float: left;margin-right: 0.25em;color: #696969;}#sk-bbe323f0-aaf4-44f2-822a-c40b2e3a9489 label.sk-toggleable__label-arrow:hover:before {color: black;}#sk-bbe323f0-aaf4-44f2-822a-c40b2e3a9489 div.sk-estimator:hover label.sk-toggleable__label-arrow:before {color: black;}#sk-bbe323f0-aaf4-44f2-822a-c40b2e3a9489 div.sk-toggleable__content {max-height: 0;max-width: 0;overflow: hidden;text-align: left;background-color: #f0f8ff;}#sk-bbe323f0-aaf4-44f2-822a-c40b2e3a9489 div.sk-toggleable__content pre {margin: 0.2em;color: black;border-radius: 0.25em;background-color: #f0f8ff;}#sk-bbe323f0-aaf4-44f2-822a-c40b2e3a9489 input.sk-toggleable__control:checked~div.sk-toggleable__content {max-height: 200px;max-width: 100%;overflow: auto;}#sk-bbe323f0-aaf4-44f2-822a-c40b2e3a9489 input.sk-toggleable__control:checked~label.sk-toggleable__label-arrow:before {content: \"▾\";}#sk-bbe323f0-aaf4-44f2-822a-c40b2e3a9489 div.sk-estimator input.sk-toggleable__control:checked~label.sk-toggleable__label {background-color: #d4ebff;}#sk-bbe323f0-aaf4-44f2-822a-c40b2e3a9489 div.sk-label input.sk-toggleable__control:checked~label.sk-toggleable__label {background-color: #d4ebff;}#sk-bbe323f0-aaf4-44f2-822a-c40b2e3a9489 input.sk-hidden--visually {border: 0;clip: rect(1px 1px 1px 1px);clip: rect(1px, 1px, 1px, 1px);height: 1px;margin: -1px;overflow: hidden;padding: 0;position: absolute;width: 1px;}#sk-bbe323f0-aaf4-44f2-822a-c40b2e3a9489 div.sk-estimator {font-family: monospace;background-color: #f0f8ff;border: 1px dotted black;border-radius: 0.25em;box-sizing: border-box;margin-bottom: 0.5em;}#sk-bbe323f0-aaf4-44f2-822a-c40b2e3a9489 div.sk-estimator:hover {background-color: #d4ebff;}#sk-bbe323f0-aaf4-44f2-822a-c40b2e3a9489 div.sk-parallel-item::after {content: \"\";width: 100%;border-bottom: 1px solid gray;flex-grow: 1;}#sk-bbe323f0-aaf4-44f2-822a-c40b2e3a9489 div.sk-label:hover label.sk-toggleable__label {background-color: #d4ebff;}#sk-bbe323f0-aaf4-44f2-822a-c40b2e3a9489 div.sk-serial::before {content: \"\";position: absolute;border-left: 1px solid gray;box-sizing: border-box;top: 2em;bottom: 0;left: 50%;}#sk-bbe323f0-aaf4-44f2-822a-c40b2e3a9489 div.sk-serial {display: flex;flex-direction: column;align-items: center;background-color: white;padding-right: 0.2em;padding-left: 0.2em;}#sk-bbe323f0-aaf4-44f2-822a-c40b2e3a9489 div.sk-item {z-index: 1;}#sk-bbe323f0-aaf4-44f2-822a-c40b2e3a9489 div.sk-parallel {display: flex;align-items: stretch;justify-content: center;background-color: white;}#sk-bbe323f0-aaf4-44f2-822a-c40b2e3a9489 div.sk-parallel::before {content: \"\";position: absolute;border-left: 1px solid gray;box-sizing: border-box;top: 2em;bottom: 0;left: 50%;}#sk-bbe323f0-aaf4-44f2-822a-c40b2e3a9489 div.sk-parallel-item {display: flex;flex-direction: column;position: relative;background-color: white;}#sk-bbe323f0-aaf4-44f2-822a-c40b2e3a9489 div.sk-parallel-item:first-child::after {align-self: flex-end;width: 50%;}#sk-bbe323f0-aaf4-44f2-822a-c40b2e3a9489 div.sk-parallel-item:last-child::after {align-self: flex-start;width: 50%;}#sk-bbe323f0-aaf4-44f2-822a-c40b2e3a9489 div.sk-parallel-item:only-child::after {width: 0;}#sk-bbe323f0-aaf4-44f2-822a-c40b2e3a9489 div.sk-dashed-wrapped {border: 1px dashed gray;margin: 0 0.4em 0.5em 0.4em;box-sizing: border-box;padding-bottom: 0.4em;background-color: white;position: relative;}#sk-bbe323f0-aaf4-44f2-822a-c40b2e3a9489 div.sk-label label {font-family: monospace;font-weight: bold;background-color: white;display: inline-block;line-height: 1.2em;}#sk-bbe323f0-aaf4-44f2-822a-c40b2e3a9489 div.sk-label-container {position: relative;z-index: 2;text-align: center;}#sk-bbe323f0-aaf4-44f2-822a-c40b2e3a9489 div.sk-container {/* jupyter's `normalize.less` sets `[hidden] { display: none; }` but bootstrap.min.css set `[hidden] { display: none !important; }` so we also need the `!important` here to be able to override the default hidden behavior on the sphinx rendered scikit-learn.org. See: https://github.com/scikit-learn/scikit-learn/issues/21755 */display: inline-block !important;position: relative;}#sk-bbe323f0-aaf4-44f2-822a-c40b2e3a9489 div.sk-text-repr-fallback {display: none;}</style><div id=\"sk-bbe323f0-aaf4-44f2-822a-c40b2e3a9489\" class=\"sk-top-container\"><div class=\"sk-text-repr-fallback\"><pre>Pipeline(steps=[(&#x27;transformer&#x27;,\n",
       "                 ColumnTransformer(remainder=StandardScaler(),\n",
       "                                   transformers=[(&#x27;onehotencoder&#x27;,\n",
       "                                                  OneHotEncoder(drop=&#x27;if_binary&#x27;),\n",
       "                                                  [&#x27;job&#x27;, &#x27;marital&#x27;,\n",
       "                                                   &#x27;education&#x27;, &#x27;default&#x27;,\n",
       "                                                   &#x27;housing&#x27;, &#x27;loan&#x27;])])),\n",
       "                (&#x27;dt&#x27;, DecisionTreeClassifier(random_state=1234))])</pre><b>Please rerun this cell to show the HTML repr or trust the notebook.</b></div><div class=\"sk-container\" hidden><div class=\"sk-item sk-dashed-wrapped\"><div class=\"sk-label-container\"><div class=\"sk-label sk-toggleable\"><input class=\"sk-toggleable__control sk-hidden--visually\" id=\"685eaa27-127d-48b1-9145-6545e156c0fe\" type=\"checkbox\" ><label for=\"685eaa27-127d-48b1-9145-6545e156c0fe\" class=\"sk-toggleable__label sk-toggleable__label-arrow\">Pipeline</label><div class=\"sk-toggleable__content\"><pre>Pipeline(steps=[(&#x27;transformer&#x27;,\n",
       "                 ColumnTransformer(remainder=StandardScaler(),\n",
       "                                   transformers=[(&#x27;onehotencoder&#x27;,\n",
       "                                                  OneHotEncoder(drop=&#x27;if_binary&#x27;),\n",
       "                                                  [&#x27;job&#x27;, &#x27;marital&#x27;,\n",
       "                                                   &#x27;education&#x27;, &#x27;default&#x27;,\n",
       "                                                   &#x27;housing&#x27;, &#x27;loan&#x27;])])),\n",
       "                (&#x27;dt&#x27;, DecisionTreeClassifier(random_state=1234))])</pre></div></div></div><div class=\"sk-serial\"><div class=\"sk-item sk-dashed-wrapped\"><div class=\"sk-label-container\"><div class=\"sk-label sk-toggleable\"><input class=\"sk-toggleable__control sk-hidden--visually\" id=\"01423cad-6ab1-4603-9e15-dde18a85736b\" type=\"checkbox\" ><label for=\"01423cad-6ab1-4603-9e15-dde18a85736b\" class=\"sk-toggleable__label sk-toggleable__label-arrow\">transformer: ColumnTransformer</label><div class=\"sk-toggleable__content\"><pre>ColumnTransformer(remainder=StandardScaler(),\n",
       "                  transformers=[(&#x27;onehotencoder&#x27;,\n",
       "                                 OneHotEncoder(drop=&#x27;if_binary&#x27;),\n",
       "                                 [&#x27;job&#x27;, &#x27;marital&#x27;, &#x27;education&#x27;, &#x27;default&#x27;,\n",
       "                                  &#x27;housing&#x27;, &#x27;loan&#x27;])])</pre></div></div></div><div class=\"sk-parallel\"><div class=\"sk-parallel-item\"><div class=\"sk-item\"><div class=\"sk-label-container\"><div class=\"sk-label sk-toggleable\"><input class=\"sk-toggleable__control sk-hidden--visually\" id=\"41848024-f369-4c5c-800b-0dc1eb55a743\" type=\"checkbox\" ><label for=\"41848024-f369-4c5c-800b-0dc1eb55a743\" class=\"sk-toggleable__label sk-toggleable__label-arrow\">onehotencoder</label><div class=\"sk-toggleable__content\"><pre>[&#x27;job&#x27;, &#x27;marital&#x27;, &#x27;education&#x27;, &#x27;default&#x27;, &#x27;housing&#x27;, &#x27;loan&#x27;]</pre></div></div></div><div class=\"sk-serial\"><div class=\"sk-item\"><div class=\"sk-estimator sk-toggleable\"><input class=\"sk-toggleable__control sk-hidden--visually\" id=\"83ac6f7a-3626-46fc-9675-b0a57bc8132e\" type=\"checkbox\" ><label for=\"83ac6f7a-3626-46fc-9675-b0a57bc8132e\" class=\"sk-toggleable__label sk-toggleable__label-arrow\">OneHotEncoder</label><div class=\"sk-toggleable__content\"><pre>OneHotEncoder(drop=&#x27;if_binary&#x27;)</pre></div></div></div></div></div></div><div class=\"sk-parallel-item\"><div class=\"sk-item\"><div class=\"sk-label-container\"><div class=\"sk-label sk-toggleable\"><input class=\"sk-toggleable__control sk-hidden--visually\" id=\"0ecc2512-dc1e-44a1-ad76-ed577f91c654\" type=\"checkbox\" ><label for=\"0ecc2512-dc1e-44a1-ad76-ed577f91c654\" class=\"sk-toggleable__label sk-toggleable__label-arrow\">remainder</label><div class=\"sk-toggleable__content\"><pre>[&#x27;age&#x27;]</pre></div></div></div><div class=\"sk-serial\"><div class=\"sk-item\"><div class=\"sk-estimator sk-toggleable\"><input class=\"sk-toggleable__control sk-hidden--visually\" id=\"f09d65e7-ca87-4367-b3bf-7c1ba14e5c27\" type=\"checkbox\" ><label for=\"f09d65e7-ca87-4367-b3bf-7c1ba14e5c27\" class=\"sk-toggleable__label sk-toggleable__label-arrow\">StandardScaler</label><div class=\"sk-toggleable__content\"><pre>StandardScaler()</pre></div></div></div></div></div></div></div></div><div class=\"sk-item\"><div class=\"sk-estimator sk-toggleable\"><input class=\"sk-toggleable__control sk-hidden--visually\" id=\"08b919b8-e049-4e9e-9804-23e1cd8ec283\" type=\"checkbox\" ><label for=\"08b919b8-e049-4e9e-9804-23e1cd8ec283\" class=\"sk-toggleable__label sk-toggleable__label-arrow\">DecisionTreeClassifier</label><div class=\"sk-toggleable__content\"><pre>DecisionTreeClassifier(random_state=1234)</pre></div></div></div></div></div></div></div>"
      ],
      "text/plain": [
       "Pipeline(steps=[('transformer',\n",
       "                 ColumnTransformer(remainder=StandardScaler(),\n",
       "                                   transformers=[('onehotencoder',\n",
       "                                                  OneHotEncoder(drop='if_binary'),\n",
       "                                                  ['job', 'marital',\n",
       "                                                   'education', 'default',\n",
       "                                                   'housing', 'loan'])])),\n",
       "                ('dt', DecisionTreeClassifier(random_state=1234))])"
      ]
     },
     "metadata": {},
     "output_type": "display_data"
    }
   ],
   "source": [
    "# Model 3: Decision Tree\n",
    "model3 = Pipeline([('transformer', ohe_transformer),\n",
    "                     ('dt', DecisionTreeClassifier(random_state=1234))])\n",
    "t0 = time.time()\n",
    "model3.fit(X_train, y_train)\n",
    "t1 = time.time()\n",
    "\n",
    "model3_fittime = \"{} sec\".format(np.round((t1 - t0), decimals=2))\n",
    "display(model3)"
   ]
  },
  {
   "cell_type": "code",
   "execution_count": 306,
   "metadata": {},
   "outputs": [
    {
     "name": "stdout",
     "output_type": "stream",
     "text": [
      "Model 3: Basic DecisionTree accuracy on train-data:\t91.82\n",
      "Model 3: Basic DecisionTree accuracy on test-data:\t86.31\n",
      "Model 3: Basic DecisionTree F1 score on test-data:\t83.67\n",
      "              precision    recall  f1-score   support\n",
      "\n",
      "           0       0.89      0.96      0.93     10964\n",
      "           1       0.23      0.10      0.14      1392\n",
      "\n",
      "    accuracy                           0.86     12356\n",
      "   macro avg       0.56      0.53      0.53     12356\n",
      "weighted avg       0.82      0.86      0.84     12356\n",
      "\n"
     ]
    }
   ],
   "source": [
    "model3_train_acc, model3_test_acc, model3_f1_score = \\\n",
    "    print_train_test_evaluation(model3, X_train, y_train, X_test, y_test, \"Model 3: Basic DecisionTree\")"
   ]
  },
  {
   "cell_type": "code",
   "execution_count": 307,
   "metadata": {},
   "outputs": [],
   "source": [
    "results.append(['Basic Decision-tree', model3_fittime, model3_train_acc, model3_test_acc])"
   ]
  },
  {
   "cell_type": "code",
   "execution_count": 308,
   "metadata": {},
   "outputs": [
    {
     "data": {
      "image/png": "[encoded data removed]",
      "text/plain": [
       "<Figure size 432x432 with 2 Axes>"
      ]
     },
     "metadata": {
      "needs_background": "light"
     },
     "output_type": "display_data"
    }
   ],
   "source": [
    "fig, axes = plt.subplots( figsize=(6, 6))\n",
    "ConfusionMatrixDisplay.from_predictions(y_test, model3.predict(X_test), ax=axes);"
   ]
  },
  {
   "cell_type": "code",
   "execution_count": null,
   "metadata": {},
   "outputs": [],
   "source": []
  },
  {
   "cell_type": "code",
   "execution_count": 309,
   "metadata": {},
   "outputs": [
    {
     "data": {
      "text/html": [
       "<style>#sk-cf417bc0-db78-4c96-b395-cf1bb44e3b57 {color: black;background-color: white;}#sk-cf417bc0-db78-4c96-b395-cf1bb44e3b57 pre{padding: 0;}#sk-cf417bc0-db78-4c96-b395-cf1bb44e3b57 div.sk-toggleable {background-color: white;}#sk-cf417bc0-db78-4c96-b395-cf1bb44e3b57 label.sk-toggleable__label {cursor: pointer;display: block;width: 100%;margin-bottom: 0;padding: 0.3em;box-sizing: border-box;text-align: center;}#sk-cf417bc0-db78-4c96-b395-cf1bb44e3b57 label.sk-toggleable__label-arrow:before {content: \"▸\";float: left;margin-right: 0.25em;color: #696969;}#sk-cf417bc0-db78-4c96-b395-cf1bb44e3b57 label.sk-toggleable__label-arrow:hover:before {color: black;}#sk-cf417bc0-db78-4c96-b395-cf1bb44e3b57 div.sk-estimator:hover label.sk-toggleable__label-arrow:before {color: black;}#sk-cf417bc0-db78-4c96-b395-cf1bb44e3b57 div.sk-toggleable__content {max-height: 0;max-width: 0;overflow: hidden;text-align: left;background-color: #f0f8ff;}#sk-cf417bc0-db78-4c96-b395-cf1bb44e3b57 div.sk-toggleable__content pre {margin: 0.2em;color: black;border-radius: 0.25em;background-color: #f0f8ff;}#sk-cf417bc0-db78-4c96-b395-cf1bb44e3b57 input.sk-toggleable__control:checked~div.sk-toggleable__content {max-height: 200px;max-width: 100%;overflow: auto;}#sk-cf417bc0-db78-4c96-b395-cf1bb44e3b57 input.sk-toggleable__control:checked~label.sk-toggleable__label-arrow:before {content: \"▾\";}#sk-cf417bc0-db78-4c96-b395-cf1bb44e3b57 div.sk-estimator input.sk-toggleable__control:checked~label.sk-toggleable__label {background-color: #d4ebff;}#sk-cf417bc0-db78-4c96-b395-cf1bb44e3b57 div.sk-label input.sk-toggleable__control:checked~label.sk-toggleable__label {background-color: #d4ebff;}#sk-cf417bc0-db78-4c96-b395-cf1bb44e3b57 input.sk-hidden--visually {border: 0;clip: rect(1px 1px 1px 1px);clip: rect(1px, 1px, 1px, 1px);height: 1px;margin: -1px;overflow: hidden;padding: 0;position: absolute;width: 1px;}#sk-cf417bc0-db78-4c96-b395-cf1bb44e3b57 div.sk-estimator {font-family: monospace;background-color: #f0f8ff;border: 1px dotted black;border-radius: 0.25em;box-sizing: border-box;margin-bottom: 0.5em;}#sk-cf417bc0-db78-4c96-b395-cf1bb44e3b57 div.sk-estimator:hover {background-color: #d4ebff;}#sk-cf417bc0-db78-4c96-b395-cf1bb44e3b57 div.sk-parallel-item::after {content: \"\";width: 100%;border-bottom: 1px solid gray;flex-grow: 1;}#sk-cf417bc0-db78-4c96-b395-cf1bb44e3b57 div.sk-label:hover label.sk-toggleable__label {background-color: #d4ebff;}#sk-cf417bc0-db78-4c96-b395-cf1bb44e3b57 div.sk-serial::before {content: \"\";position: absolute;border-left: 1px solid gray;box-sizing: border-box;top: 2em;bottom: 0;left: 50%;}#sk-cf417bc0-db78-4c96-b395-cf1bb44e3b57 div.sk-serial {display: flex;flex-direction: column;align-items: center;background-color: white;padding-right: 0.2em;padding-left: 0.2em;}#sk-cf417bc0-db78-4c96-b395-cf1bb44e3b57 div.sk-item {z-index: 1;}#sk-cf417bc0-db78-4c96-b395-cf1bb44e3b57 div.sk-parallel {display: flex;align-items: stretch;justify-content: center;background-color: white;}#sk-cf417bc0-db78-4c96-b395-cf1bb44e3b57 div.sk-parallel::before {content: \"\";position: absolute;border-left: 1px solid gray;box-sizing: border-box;top: 2em;bottom: 0;left: 50%;}#sk-cf417bc0-db78-4c96-b395-cf1bb44e3b57 div.sk-parallel-item {display: flex;flex-direction: column;position: relative;background-color: white;}#sk-cf417bc0-db78-4c96-b395-cf1bb44e3b57 div.sk-parallel-item:first-child::after {align-self: flex-end;width: 50%;}#sk-cf417bc0-db78-4c96-b395-cf1bb44e3b57 div.sk-parallel-item:last-child::after {align-self: flex-start;width: 50%;}#sk-cf417bc0-db78-4c96-b395-cf1bb44e3b57 div.sk-parallel-item:only-child::after {width: 0;}#sk-cf417bc0-db78-4c96-b395-cf1bb44e3b57 div.sk-dashed-wrapped {border: 1px dashed gray;margin: 0 0.4em 0.5em 0.4em;box-sizing: border-box;padding-bottom: 0.4em;background-color: white;position: relative;}#sk-cf417bc0-db78-4c96-b395-cf1bb44e3b57 div.sk-label label {font-family: monospace;font-weight: bold;background-color: white;display: inline-block;line-height: 1.2em;}#sk-cf417bc0-db78-4c96-b395-cf1bb44e3b57 div.sk-label-container {position: relative;z-index: 2;text-align: center;}#sk-cf417bc0-db78-4c96-b395-cf1bb44e3b57 div.sk-container {/* jupyter's `normalize.less` sets `[hidden] { display: none; }` but bootstrap.min.css set `[hidden] { display: none !important; }` so we also need the `!important` here to be able to override the default hidden behavior on the sphinx rendered scikit-learn.org. See: https://github.com/scikit-learn/scikit-learn/issues/21755 */display: inline-block !important;position: relative;}#sk-cf417bc0-db78-4c96-b395-cf1bb44e3b57 div.sk-text-repr-fallback {display: none;}</style><div id=\"sk-cf417bc0-db78-4c96-b395-cf1bb44e3b57\" class=\"sk-top-container\"><div class=\"sk-text-repr-fallback\"><pre>Pipeline(steps=[(&#x27;transformer&#x27;,\n",
       "                 ColumnTransformer(remainder=StandardScaler(),\n",
       "                                   transformers=[(&#x27;onehotencoder&#x27;,\n",
       "                                                  OneHotEncoder(drop=&#x27;if_binary&#x27;),\n",
       "                                                  [&#x27;job&#x27;, &#x27;marital&#x27;,\n",
       "                                                   &#x27;education&#x27;, &#x27;default&#x27;,\n",
       "                                                   &#x27;housing&#x27;, &#x27;loan&#x27;])])),\n",
       "                (&#x27;svc&#x27;, SVC(random_state=1234))])</pre><b>Please rerun this cell to show the HTML repr or trust the notebook.</b></div><div class=\"sk-container\" hidden><div class=\"sk-item sk-dashed-wrapped\"><div class=\"sk-label-container\"><div class=\"sk-label sk-toggleable\"><input class=\"sk-toggleable__control sk-hidden--visually\" id=\"4fb83405-7b97-484e-a321-184c6d4eb005\" type=\"checkbox\" ><label for=\"4fb83405-7b97-484e-a321-184c6d4eb005\" class=\"sk-toggleable__label sk-toggleable__label-arrow\">Pipeline</label><div class=\"sk-toggleable__content\"><pre>Pipeline(steps=[(&#x27;transformer&#x27;,\n",
       "                 ColumnTransformer(remainder=StandardScaler(),\n",
       "                                   transformers=[(&#x27;onehotencoder&#x27;,\n",
       "                                                  OneHotEncoder(drop=&#x27;if_binary&#x27;),\n",
       "                                                  [&#x27;job&#x27;, &#x27;marital&#x27;,\n",
       "                                                   &#x27;education&#x27;, &#x27;default&#x27;,\n",
       "                                                   &#x27;housing&#x27;, &#x27;loan&#x27;])])),\n",
       "                (&#x27;svc&#x27;, SVC(random_state=1234))])</pre></div></div></div><div class=\"sk-serial\"><div class=\"sk-item sk-dashed-wrapped\"><div class=\"sk-label-container\"><div class=\"sk-label sk-toggleable\"><input class=\"sk-toggleable__control sk-hidden--visually\" id=\"e1af7f86-3991-4056-90ac-11b15bc1a761\" type=\"checkbox\" ><label for=\"e1af7f86-3991-4056-90ac-11b15bc1a761\" class=\"sk-toggleable__label sk-toggleable__label-arrow\">transformer: ColumnTransformer</label><div class=\"sk-toggleable__content\"><pre>ColumnTransformer(remainder=StandardScaler(),\n",
       "                  transformers=[(&#x27;onehotencoder&#x27;,\n",
       "                                 OneHotEncoder(drop=&#x27;if_binary&#x27;),\n",
       "                                 [&#x27;job&#x27;, &#x27;marital&#x27;, &#x27;education&#x27;, &#x27;default&#x27;,\n",
       "                                  &#x27;housing&#x27;, &#x27;loan&#x27;])])</pre></div></div></div><div class=\"sk-parallel\"><div class=\"sk-parallel-item\"><div class=\"sk-item\"><div class=\"sk-label-container\"><div class=\"sk-label sk-toggleable\"><input class=\"sk-toggleable__control sk-hidden--visually\" id=\"f9d8138b-e2e9-492f-8f99-9242f223f664\" type=\"checkbox\" ><label for=\"f9d8138b-e2e9-492f-8f99-9242f223f664\" class=\"sk-toggleable__label sk-toggleable__label-arrow\">onehotencoder</label><div class=\"sk-toggleable__content\"><pre>[&#x27;job&#x27;, &#x27;marital&#x27;, &#x27;education&#x27;, &#x27;default&#x27;, &#x27;housing&#x27;, &#x27;loan&#x27;]</pre></div></div></div><div class=\"sk-serial\"><div class=\"sk-item\"><div class=\"sk-estimator sk-toggleable\"><input class=\"sk-toggleable__control sk-hidden--visually\" id=\"b8ad48bd-3177-4401-9f05-fad9f9d81d4b\" type=\"checkbox\" ><label for=\"b8ad48bd-3177-4401-9f05-fad9f9d81d4b\" class=\"sk-toggleable__label sk-toggleable__label-arrow\">OneHotEncoder</label><div class=\"sk-toggleable__content\"><pre>OneHotEncoder(drop=&#x27;if_binary&#x27;)</pre></div></div></div></div></div></div><div class=\"sk-parallel-item\"><div class=\"sk-item\"><div class=\"sk-label-container\"><div class=\"sk-label sk-toggleable\"><input class=\"sk-toggleable__control sk-hidden--visually\" id=\"173df0e3-6792-45f5-bdbd-62a1abc47c8e\" type=\"checkbox\" ><label for=\"173df0e3-6792-45f5-bdbd-62a1abc47c8e\" class=\"sk-toggleable__label sk-toggleable__label-arrow\">remainder</label><div class=\"sk-toggleable__content\"><pre>[&#x27;age&#x27;]</pre></div></div></div><div class=\"sk-serial\"><div class=\"sk-item\"><div class=\"sk-estimator sk-toggleable\"><input class=\"sk-toggleable__control sk-hidden--visually\" id=\"c7b28479-0788-4ba3-bca3-e7994b6c67f2\" type=\"checkbox\" ><label for=\"c7b28479-0788-4ba3-bca3-e7994b6c67f2\" class=\"sk-toggleable__label sk-toggleable__label-arrow\">StandardScaler</label><div class=\"sk-toggleable__content\"><pre>StandardScaler()</pre></div></div></div></div></div></div></div></div><div class=\"sk-item\"><div class=\"sk-estimator sk-toggleable\"><input class=\"sk-toggleable__control sk-hidden--visually\" id=\"85a5441f-80cd-4dad-a1a4-ad0722b57e62\" type=\"checkbox\" ><label for=\"85a5441f-80cd-4dad-a1a4-ad0722b57e62\" class=\"sk-toggleable__label sk-toggleable__label-arrow\">SVC</label><div class=\"sk-toggleable__content\"><pre>SVC(random_state=1234)</pre></div></div></div></div></div></div></div>"
      ],
      "text/plain": [
       "Pipeline(steps=[('transformer',\n",
       "                 ColumnTransformer(remainder=StandardScaler(),\n",
       "                                   transformers=[('onehotencoder',\n",
       "                                                  OneHotEncoder(drop='if_binary'),\n",
       "                                                  ['job', 'marital',\n",
       "                                                   'education', 'default',\n",
       "                                                   'housing', 'loan'])])),\n",
       "                ('svc', SVC(random_state=1234))])"
      ]
     },
     "metadata": {},
     "output_type": "display_data"
    }
   ],
   "source": [
    "# Model 4: SVM Model\n",
    "model4 = Pipeline([('transformer', ohe_transformer),\n",
    "                     ('svc', SVC(random_state=1234))])\n",
    "t0 = time.time()\n",
    "model4.fit(X_train, y_train)\n",
    "t1 = time.time()\n",
    "\n",
    "model4_fittime = \"{} sec\".format(np.round((t1 - t0), decimals=2))\n",
    "display(model4)"
   ]
  },
  {
   "cell_type": "code",
   "execution_count": 310,
   "metadata": {},
   "outputs": [
    {
     "name": "stdout",
     "output_type": "stream",
     "text": [
      "Model 4: Basic SVM accuracy on train-data:\t88.87\n",
      "Model 4: Basic SVM accuracy on test-data:\t88.69\n",
      "Model 4: Basic SVM F1 score on test-data:\t83.68\n",
      "              precision    recall  f1-score   support\n",
      "\n",
      "           0       0.89      1.00      0.94     10964\n",
      "           1       0.44      0.01      0.02      1392\n",
      "\n",
      "    accuracy                           0.89     12356\n",
      "   macro avg       0.66      0.51      0.48     12356\n",
      "weighted avg       0.84      0.89      0.84     12356\n",
      "\n"
     ]
    }
   ],
   "source": [
    "model4_train_acc, model4_test_acc, model4_f1_score = \\\n",
    "    print_train_test_evaluation(model4, X_train, y_train, X_test, y_test, \"Model 4: Basic SVM\")"
   ]
  },
  {
   "cell_type": "code",
   "execution_count": 311,
   "metadata": {},
   "outputs": [],
   "source": [
    "results.append(['Basic SVM', model4_fittime, model4_train_acc, model4_test_acc])"
   ]
  },
  {
   "cell_type": "code",
   "execution_count": 312,
   "metadata": {},
   "outputs": [],
   "source": [
    "results_df = pd.DataFrame(data=results, columns=['Model', 'Train Time', 'Train Accuracy', 'Test Accuracy'])"
   ]
  },
  {
   "cell_type": "code",
   "execution_count": 313,
   "metadata": {},
   "outputs": [
    {
     "data": {
      "text/html": [
       "<div>\n",
       "<style scoped>\n",
       "    .dataframe tbody tr th:only-of-type {\n",
       "        vertical-align: middle;\n",
       "    }\n",
       "\n",
       "    .dataframe tbody tr th {\n",
       "        vertical-align: top;\n",
       "    }\n",
       "\n",
       "    .dataframe thead th {\n",
       "        text-align: right;\n",
       "    }\n",
       "</style>\n",
       "<table border=\"1\" class=\"dataframe\">\n",
       "  <thead>\n",
       "    <tr style=\"text-align: right;\">\n",
       "      <th></th>\n",
       "      <th>Model</th>\n",
       "      <th>Train Time</th>\n",
       "      <th>Train Accuracy</th>\n",
       "      <th>Test Accuracy</th>\n",
       "    </tr>\n",
       "  </thead>\n",
       "  <tbody>\n",
       "    <tr>\n",
       "      <th>0</th>\n",
       "      <td>Basic Logistic Regression</td>\n",
       "      <td>0.29 sec</td>\n",
       "      <td>88.73</td>\n",
       "      <td>88.73</td>\n",
       "    </tr>\n",
       "    <tr>\n",
       "      <th>1</th>\n",
       "      <td>Basic kNN</td>\n",
       "      <td>0.05 sec</td>\n",
       "      <td>89.08</td>\n",
       "      <td>87.71</td>\n",
       "    </tr>\n",
       "    <tr>\n",
       "      <th>2</th>\n",
       "      <td>Basic Decision-tree</td>\n",
       "      <td>0.38 sec</td>\n",
       "      <td>91.82</td>\n",
       "      <td>86.31</td>\n",
       "    </tr>\n",
       "    <tr>\n",
       "      <th>3</th>\n",
       "      <td>Basic SVM</td>\n",
       "      <td>24.9 sec</td>\n",
       "      <td>88.87</td>\n",
       "      <td>88.69</td>\n",
       "    </tr>\n",
       "  </tbody>\n",
       "</table>\n",
       "</div>"
      ],
      "text/plain": [
       "                       Model Train Time  Train Accuracy  Test Accuracy\n",
       "0  Basic Logistic Regression   0.29 sec           88.73          88.73\n",
       "1                  Basic kNN   0.05 sec           89.08          87.71\n",
       "2        Basic Decision-tree   0.38 sec           91.82          86.31\n",
       "3                  Basic SVM   24.9 sec           88.87          88.69"
      ]
     },
     "metadata": {},
     "output_type": "display_data"
    }
   ],
   "source": [
    "display(results_df)"
   ]
  },
  {
   "cell_type": "code",
   "execution_count": null,
   "metadata": {},
   "outputs": [],
   "source": []
  },
  {
   "cell_type": "markdown",
   "metadata": {},
   "source": [
    "### Problem 11: Improving the Model\n",
    "\n",
    "Now that we have some basic models on the board, we want to try to improve these.  Below, we list a few things to explore in this pursuit.\n",
    "\n",
    "- More feature engineering and exploration.  For example, should we keep the gender feature?  Why or why not?\n",
    "- Hyperparameter tuning and grid search.  All of our models have additional hyperparameters to tune and explore.  For example the number of neighbors in KNN or the maximum depth of a Decision Tree.  \n",
    "- Adjust your performance metric"
   ]
  },
  {
   "cell_type": "markdown",
   "metadata": {},
   "source": [
    "##### Before going to tune the hyper-parameters, let's look at the correct performance evaluation metric for this dataset"
   ]
  },
  {
   "cell_type": "markdown",
   "metadata": {},
   "source": [
    "#### Performance Evaluation metric\n",
    "For this dataset, just looking at the train/test Accuracy scores is a little mis-leading. \n",
    "\n",
    "For example, look at Model 1 above (Logistic regression): From it's confusion matrix, we can wee that it predicted everything as class 0 (the True-positives and False-positives are 0), yet it shows a 88.73% accuracy.\n",
    "\n",
    "More importantly, the target classes are unevenly distributed. \n",
    "\n",
    "For these reasons, the correct performance metric is using F1-score. If we want to penalize hard on not predicting the positive-class correctly, one can use the macro average of the F1-score.\n",
    "\n",
    "I'm going to use the Weighted Average of the F1-score, that gives weights proportionate to target class distribution."
   ]
  },
  {
   "cell_type": "code",
   "execution_count": 355,
   "metadata": {},
   "outputs": [],
   "source": [
    "f1 = make_scorer(f1_score , average='weighted')"
   ]
  },
  {
   "cell_type": "code",
   "execution_count": 316,
   "metadata": {},
   "outputs": [],
   "source": [
    "# Utility functions\n",
    "def print_train_test_evaluation_on_f1score(estimator, X_trainset, y_trainset, X_testset, y_testset, descr):\n",
    "    curmodel_f1_train  = round(f1_score(y_trainset, estimator.predict(X_trainset), average='weighted')*100, 2)\n",
    "    curmodel_f1_test   = round(f1_score(y_testset, estimator.predict(X_testset), average='weighted')*100, 2)\n",
    "\n",
    "    print(f'{descr} F1 score on train-data:\\t{curmodel_f1_train}')\n",
    "    print(f'{descr} F1 score on test-data:\\t{curmodel_f1_test}')\n",
    "    \n",
    "    y_curpreds = estimator.predict(X_testset)\n",
    "    print(classification_report(y_testset, y_curpreds))\n",
    "    \n",
    "    return curmodel_f1_train,curmodel_f1_test"
   ]
  },
  {
   "cell_type": "markdown",
   "metadata": {},
   "source": [
    "#### To determine which features are important to find whether to keep a specific feature or not,  I will perform permutation feature importance on the train and test data."
   ]
  },
  {
   "cell_type": "code",
   "execution_count": 317,
   "metadata": {},
   "outputs": [],
   "source": [
    "def display_permutation_importance_features(est, X_trainset, y_trainset, X_testset, y_testset, n_rep=30, descr=''):\n",
    "    print('Permutation importance on train dataset on {}'.format(descr))\n",
    "    r = permutation_importance(est, X_trainset, y_trainset, n_repeats=n_rep)\n",
    "    features = X_trainset.columns\n",
    "    for i in r.importances_mean.argsort()[::-1]:\n",
    "            print(f\"{features[i]:<8}\"\n",
    "                  f\" {r.importances_mean[i]:.3f}\"\n",
    "                  f\" +/- {r.importances_std[i]:.3f}\")\n",
    "    # For reducing computational time, I'm not performing this on test-data"
   ]
  },
  {
   "cell_type": "markdown",
   "metadata": {},
   "source": [
    "#### Feature importance on Model1\n",
    "Again, looking at the confusion matrix, this model is predicting everything as target class 'no'. This looks more like a 'no-skill classifier'. I don't think adding or removing features will make difference for this model. Let's confirm that"
   ]
  },
  {
   "cell_type": "code",
   "execution_count": 318,
   "metadata": {},
   "outputs": [
    {
     "name": "stdout",
     "output_type": "stream",
     "text": [
      "Permutation importance on train dataset on Model1\n",
      "age      0.000 +/- 0.000\n",
      "marital  0.000 +/- 0.000\n",
      "education 0.000 +/- 0.000\n",
      "job      0.000 +/- 0.000\n",
      "loan     0.000 +/- 0.000\n",
      "housing  0.000 +/- 0.000\n",
      "default  -0.000 +/- 0.000\n"
     ]
    }
   ],
   "source": [
    "display_permutation_importance_features(model1, X_train, y_train, X_test, y_test, descr='Model1')"
   ]
  },
  {
   "cell_type": "markdown",
   "metadata": {},
   "source": [
    "#### Conclusion on Feature importance on model1\n",
    "As expected, this shows no features are really important for Model 1"
   ]
  },
  {
   "cell_type": "code",
   "execution_count": null,
   "metadata": {},
   "outputs": [],
   "source": []
  },
  {
   "cell_type": "markdown",
   "metadata": {},
   "source": [
    "#### Feature importance on Model2\n",
    "Let's see which features are important for Model 2"
   ]
  },
  {
   "cell_type": "code",
   "execution_count": 319,
   "metadata": {},
   "outputs": [
    {
     "name": "stdout",
     "output_type": "stream",
     "text": [
      "Permutation importance on train dataset on Model2\n",
      "age      0.013 +/- 0.000\n",
      "education 0.009 +/- 0.001\n",
      "job      0.008 +/- 0.001\n",
      "housing  0.006 +/- 0.001\n",
      "marital  0.004 +/- 0.001\n",
      "default  0.003 +/- 0.000\n",
      "loan     0.002 +/- 0.000\n"
     ]
    }
   ],
   "source": [
    "display_permutation_importance_features(model2, X_train, y_train, X_test, y_test, descr='Model2')"
   ]
  },
  {
   "cell_type": "code",
   "execution_count": null,
   "metadata": {},
   "outputs": [],
   "source": []
  },
  {
   "cell_type": "markdown",
   "metadata": {},
   "source": [
    "#### Feature importance on Model3\n",
    "Let's see which features are important for Model 3"
   ]
  },
  {
   "cell_type": "code",
   "execution_count": 320,
   "metadata": {},
   "outputs": [
    {
     "name": "stdout",
     "output_type": "stream",
     "text": [
      "Permutation importance on train dataset on Model3\n",
      "age      0.064 +/- 0.001\n",
      "job      0.060 +/- 0.001\n",
      "education 0.058 +/- 0.001\n",
      "marital  0.030 +/- 0.001\n",
      "housing  0.022 +/- 0.001\n",
      "default  0.018 +/- 0.001\n",
      "loan     0.018 +/- 0.001\n"
     ]
    }
   ],
   "source": [
    "display_permutation_importance_features(model3, X_train, y_train, X_test, y_test, descr='Model3')"
   ]
  },
  {
   "cell_type": "code",
   "execution_count": null,
   "metadata": {},
   "outputs": [],
   "source": []
  },
  {
   "cell_type": "markdown",
   "metadata": {},
   "source": [
    "#### Feature importance on Model4\n",
    "Let's see which features are important for Model 4"
   ]
  },
  {
   "cell_type": "code",
   "execution_count": 321,
   "metadata": {},
   "outputs": [
    {
     "name": "stdout",
     "output_type": "stream",
     "text": [
      "Permutation importance on train dataset on Model4\n",
      "age      0.002 +/- 0.000\n",
      "education 0.001 +/- 0.000\n",
      "job      0.001 +/- 0.000\n",
      "loan     0.000 +/- 0.000\n",
      "housing  0.000 +/- 0.000\n",
      "marital  0.000 +/- 0.000\n",
      "default  0.000 +/- 0.000\n"
     ]
    }
   ],
   "source": [
    "display_permutation_importance_features(model4, X_train, y_train, X_test, y_test, descr='Model4')"
   ]
  },
  {
   "cell_type": "code",
   "execution_count": null,
   "metadata": {},
   "outputs": [],
   "source": []
  },
  {
   "cell_type": "markdown",
   "metadata": {},
   "source": [
    "#### Conclusion on Feature Engineering based on permutation importance\n",
    "\n"
   ]
  },
  {
   "cell_type": "markdown",
   "metadata": {},
   "source": [
    "As mentioned, our Model 1 is mostly a no-skill model as it happens to predict everything as target class 0.\n",
    "In Model 2 and 3, all the features are contributing to the prediction to certain degree. \n",
    "Model 4 only depends on age, education and job.\n",
    "\n",
    "I will continue to use all the features for the rest of the exercise. The hyper-parameter tuning on the basic models might need additional features for better prediction."
   ]
  },
  {
   "cell_type": "code",
   "execution_count": null,
   "metadata": {},
   "outputs": [],
   "source": []
  },
  {
   "cell_type": "markdown",
   "metadata": {},
   "source": [
    "#### Hyper-parameter tuning\n",
    "Now, let's do some hyper-parameter tuning on Model 1 through 4. We will call these Models 5 through 8"
   ]
  },
  {
   "cell_type": "code",
   "execution_count": 322,
   "metadata": {},
   "outputs": [],
   "source": [
    "# Tune logistic regression hyper-parameters \n",
    "model5_param_dict = {'lgr__C': np.logspace(-5, .5, 10),\n",
    "                    'lgr__max_iter': [200, 300]\n",
    "                    }"
   ]
  },
  {
   "cell_type": "code",
   "execution_count": 323,
   "metadata": {},
   "outputs": [],
   "source": [
    "onehot_cols = ['job', 'marital', 'education', 'default', 'housing', 'loan']\n",
    "\n",
    "ohe_transformer = make_column_transformer(\n",
    "                            (OneHotEncoder(), onehot_cols),\n",
    "                            remainder=StandardScaler())"
   ]
  },
  {
   "cell_type": "code",
   "execution_count": 357,
   "metadata": {},
   "outputs": [],
   "source": [
    "model5 = Pipeline([('transformer', ohe_transformer),\n",
    "                     ('lgr', LogisticRegression(random_state=1234))])\n"
   ]
  },
  {
   "cell_type": "code",
   "execution_count": 358,
   "metadata": {},
   "outputs": [],
   "source": [
    "model5_grid = GridSearchCV(model5, model5_param_dict, scoring=f1, cv=2, \\\n",
    "                         verbose=0, return_train_score=True, n_jobs=-1)\n"
   ]
  },
  {
   "cell_type": "code",
   "execution_count": 359,
   "metadata": {},
   "outputs": [
    {
     "name": "stdout",
     "output_type": "stream",
     "text": [
      "CPU times: user 347 ms, sys: 27.3 ms, total: 374 ms\n",
      "Wall time: 952 ms\n"
     ]
    }
   ],
   "source": [
    "%%time\n",
    "t0 = time.time()\n",
    "model5_grid.fit(X_train, y_train)\n",
    "t1 = time.time()\n",
    "\n",
    "model5_fittime = \"{} sec\".format(np.round((t1 - t0), decimals=2))"
   ]
  },
  {
   "cell_type": "code",
   "execution_count": 360,
   "metadata": {},
   "outputs": [
    {
     "name": "stdout",
     "output_type": "stream",
     "text": [
      "{'lgr__C': 1e-05, 'lgr__max_iter': 200}\n"
     ]
    }
   ],
   "source": [
    "print(model5_grid.best_params_)"
   ]
  },
  {
   "cell_type": "code",
   "execution_count": 361,
   "metadata": {},
   "outputs": [
    {
     "name": "stdout",
     "output_type": "stream",
     "text": [
      "Model 5(Tuned Logistic regression) F1 score on train-data:\t83.44\n",
      "Model 5(Tuned Logistic regression) F1 score on test-data:\t83.44\n",
      "              precision    recall  f1-score   support\n",
      "\n",
      "           0       0.89      1.00      0.94     10964\n",
      "           1       0.00      0.00      0.00      1392\n",
      "\n",
      "    accuracy                           0.89     12356\n",
      "   macro avg       0.44      0.50      0.47     12356\n",
      "weighted avg       0.79      0.89      0.83     12356\n",
      "\n"
     ]
    }
   ],
   "source": [
    "model5_train_f1, model5_test_f1 = print_train_test_evaluation_on_f1score(model5_grid.best_estimator_, X_train, y_train, X_test, y_test, \n",
    "                                                                           \"Model 5(Tuned Logistic regression)\")"
   ]
  },
  {
   "cell_type": "code",
   "execution_count": 362,
   "metadata": {},
   "outputs": [],
   "source": [
    "# I'll maintain results of the tuned models in the below list of lists\n",
    "# Each entry will be a list with format: \n",
    "#   ['Model', 'Parameters', Train Time', 'Train F1-score', 'Test F1-score']\n",
    "results_with_f1score = []"
   ]
  },
  {
   "cell_type": "code",
   "execution_count": 363,
   "metadata": {},
   "outputs": [],
   "source": [
    "results_with_f1score.append(['Tuned Logistic Regr', '{}'.format(model5_grid.best_params_), model5_fittime, \\\n",
    "                             model5_train_f1, model5_test_f1])"
   ]
  },
  {
   "cell_type": "code",
   "execution_count": null,
   "metadata": {},
   "outputs": [],
   "source": []
  },
  {
   "cell_type": "code",
   "execution_count": 364,
   "metadata": {},
   "outputs": [],
   "source": [
    "#kNN grid search\n",
    "k_range = list(range(10, 60, 10))\n",
    "model6_param_dict = {'knn__n_neighbors': k_range}"
   ]
  },
  {
   "cell_type": "code",
   "execution_count": 365,
   "metadata": {},
   "outputs": [],
   "source": [
    "model6 = Pipeline([('transformer', ohe_transformer),\n",
    "                     ('knn', KNeighborsClassifier())])\n"
   ]
  },
  {
   "cell_type": "code",
   "execution_count": 366,
   "metadata": {},
   "outputs": [
    {
     "name": "stdout",
     "output_type": "stream",
     "text": [
      "CPU times: user 134 ms, sys: 113 ms, total: 246 ms\n",
      "Wall time: 1min 9s\n"
     ]
    }
   ],
   "source": [
    "%%time\n",
    "model6_knn_grid = GridSearchCV(model6, model6_param_dict, scoring=f1, cv=2, verbose=0, n_jobs=-1)\n",
    "t0 = time.time()\n",
    "model6_knn_grid.fit(X_train, y_train)\n",
    "t1 = time.time()\n",
    "\n",
    "model6_fittime = \"{} sec\".format(np.round((t1 - t0), decimals=2))\n"
   ]
  },
  {
   "cell_type": "code",
   "execution_count": 367,
   "metadata": {},
   "outputs": [
    {
     "name": "stdout",
     "output_type": "stream",
     "text": [
      "{'knn__n_neighbors': 20}\n"
     ]
    }
   ],
   "source": [
    "print(model6_knn_grid.best_params_)"
   ]
  },
  {
   "cell_type": "code",
   "execution_count": 368,
   "metadata": {},
   "outputs": [
    {
     "name": "stdout",
     "output_type": "stream",
     "text": [
      "Model 6(Tuned kNN) F1 score on train-data:\t84.27\n",
      "Model 6(Tuned kNN) F1 score on test-data:\t83.74\n",
      "              precision    recall  f1-score   support\n",
      "\n",
      "           0       0.89      1.00      0.94     10964\n",
      "           1       0.36      0.02      0.04      1392\n",
      "\n",
      "    accuracy                           0.89     12356\n",
      "   macro avg       0.62      0.51      0.49     12356\n",
      "weighted avg       0.83      0.89      0.84     12356\n",
      "\n"
     ]
    }
   ],
   "source": [
    "model6_train_f1, model6_test_f1 = print_train_test_evaluation_on_f1score(model6_knn_grid.best_estimator_, X_train, y_train, X_test, y_test, \n",
    "                                                                           \"Model 6(Tuned kNN)\")"
   ]
  },
  {
   "cell_type": "code",
   "execution_count": 369,
   "metadata": {},
   "outputs": [],
   "source": [
    "results_with_f1score.append(['Tuned kNN', '{}'.format(model6_knn_grid.best_params_), model6_fittime, \\\n",
    "                             model6_train_f1, model6_test_f1])"
   ]
  },
  {
   "cell_type": "code",
   "execution_count": null,
   "metadata": {},
   "outputs": [],
   "source": []
  },
  {
   "cell_type": "code",
   "execution_count": 370,
   "metadata": {},
   "outputs": [],
   "source": [
    "#Decision tree grid search\n",
    "model7_param_dict = {'dt__max_depth': [5, 10, 20, 50],\n",
    "             'dt__min_samples_split': [0.05, 0.1, 0.2]}"
   ]
  },
  {
   "cell_type": "code",
   "execution_count": 371,
   "metadata": {},
   "outputs": [],
   "source": [
    "model7 = Pipeline([('transformer', ohe_transformer),\n",
    "                     ('dt', DecisionTreeClassifier())])"
   ]
  },
  {
   "cell_type": "code",
   "execution_count": 372,
   "metadata": {},
   "outputs": [
    {
     "name": "stdout",
     "output_type": "stream",
     "text": [
      "CPU times: user 306 ms, sys: 34.8 ms, total: 341 ms\n",
      "Wall time: 514 ms\n"
     ]
    }
   ],
   "source": [
    "%%time\n",
    "model7_dt_grid = GridSearchCV(model7, model7_param_dict, scoring=f1, cv=3, verbose=0, n_jobs=-1)\n",
    "t0 = time.time()\n",
    "model7_dt_grid.fit(X_train, y_train)\n",
    "t1 = time.time()\n",
    "\n",
    "model7_fittime = \"{} sec\".format(np.round((t1 - t0), decimals=2))"
   ]
  },
  {
   "cell_type": "code",
   "execution_count": 373,
   "metadata": {},
   "outputs": [
    {
     "name": "stdout",
     "output_type": "stream",
     "text": [
      "{'dt__max_depth': 10, 'dt__min_samples_split': 0.05}\n"
     ]
    }
   ],
   "source": [
    "print(model7_dt_grid.best_params_)"
   ]
  },
  {
   "cell_type": "code",
   "execution_count": 374,
   "metadata": {},
   "outputs": [
    {
     "name": "stdout",
     "output_type": "stream",
     "text": [
      "Model 7(Tuned Decision Tree) F1 score on train-data:\t83.44\n",
      "Model 7(Tuned Decision Tree) F1 score on test-data:\t83.44\n",
      "              precision    recall  f1-score   support\n",
      "\n",
      "           0       0.89      1.00      0.94     10964\n",
      "           1       0.00      0.00      0.00      1392\n",
      "\n",
      "    accuracy                           0.89     12356\n",
      "   macro avg       0.44      0.50      0.47     12356\n",
      "weighted avg       0.79      0.89      0.83     12356\n",
      "\n"
     ]
    }
   ],
   "source": [
    "model7_train_f1, model7_test_f1 = print_train_test_evaluation_on_f1score(model7_dt_grid.best_estimator_, X_train, y_train, X_test, y_test, \n",
    "                                                                           \"Model 7(Tuned Decision Tree)\")"
   ]
  },
  {
   "cell_type": "code",
   "execution_count": 375,
   "metadata": {},
   "outputs": [],
   "source": [
    "results_with_f1score.append(['Tuned Decision tree', '{}'.format(model7_dt_grid.best_params_), model7_fittime, \\\n",
    "                             model7_train_f1, model7_test_f1])"
   ]
  },
  {
   "cell_type": "markdown",
   "metadata": {},
   "source": []
  },
  {
   "cell_type": "markdown",
   "metadata": {},
   "source": [
    "#### I attempted to grid-search SVM hyper-parameters, but is computationally expensive and is taking a long time"
   ]
  },
  {
   "cell_type": "code",
   "execution_count": 376,
   "metadata": {},
   "outputs": [
    {
     "data": {
      "text/html": [
       "<div>\n",
       "<style scoped>\n",
       "    .dataframe tbody tr th:only-of-type {\n",
       "        vertical-align: middle;\n",
       "    }\n",
       "\n",
       "    .dataframe tbody tr th {\n",
       "        vertical-align: top;\n",
       "    }\n",
       "\n",
       "    .dataframe thead th {\n",
       "        text-align: right;\n",
       "    }\n",
       "</style>\n",
       "<table border=\"1\" class=\"dataframe\">\n",
       "  <thead>\n",
       "    <tr style=\"text-align: right;\">\n",
       "      <th></th>\n",
       "      <th>Model</th>\n",
       "      <th>Parameters</th>\n",
       "      <th>Train Time</th>\n",
       "      <th>Train F1 score</th>\n",
       "      <th>Test F1 score</th>\n",
       "    </tr>\n",
       "  </thead>\n",
       "  <tbody>\n",
       "    <tr>\n",
       "      <th>0</th>\n",
       "      <td>Tuned Logistic Regr</td>\n",
       "      <td>{'lgr__C': 1e-05, 'lgr__max_iter': 200}</td>\n",
       "      <td>0.95 sec</td>\n",
       "      <td>83.44</td>\n",
       "      <td>83.44</td>\n",
       "    </tr>\n",
       "    <tr>\n",
       "      <th>1</th>\n",
       "      <td>Tuned kNN</td>\n",
       "      <td>{'knn__n_neighbors': 20}</td>\n",
       "      <td>69.97 sec</td>\n",
       "      <td>84.27</td>\n",
       "      <td>83.74</td>\n",
       "    </tr>\n",
       "    <tr>\n",
       "      <th>2</th>\n",
       "      <td>Tuned Decision tree</td>\n",
       "      <td>{'dt__max_depth': 10, 'dt__min_samples_split':...</td>\n",
       "      <td>0.51 sec</td>\n",
       "      <td>83.44</td>\n",
       "      <td>83.44</td>\n",
       "    </tr>\n",
       "  </tbody>\n",
       "</table>\n",
       "</div>"
      ],
      "text/plain": [
       "                 Model                                         Parameters  \\\n",
       "0  Tuned Logistic Regr            {'lgr__C': 1e-05, 'lgr__max_iter': 200}   \n",
       "1            Tuned kNN                           {'knn__n_neighbors': 20}   \n",
       "2  Tuned Decision tree  {'dt__max_depth': 10, 'dt__min_samples_split':...   \n",
       "\n",
       "  Train Time  Train F1 score  Test F1 score  \n",
       "0   0.95 sec           83.44          83.44  \n",
       "1  69.97 sec           84.27          83.74  \n",
       "2   0.51 sec           83.44          83.44  "
      ]
     },
     "metadata": {},
     "output_type": "display_data"
    }
   ],
   "source": [
    "results_tuned_f1_df = pd.DataFrame(data=results_with_f1score, columns=['Model', 'Parameters', 'Train Time', 'Train F1 score', 'Test F1 score'])\n",
    "\n",
    "display(results_tuned_f1_df)"
   ]
  },
  {
   "cell_type": "code",
   "execution_count": null,
   "metadata": {},
   "outputs": [],
   "source": []
  },
  {
   "cell_type": "markdown",
   "metadata": {},
   "source": [
    "##### Let's look at the ROC curves for these models and see if we can infer anything else"
   ]
  },
  {
   "cell_type": "code",
   "execution_count": 377,
   "metadata": {},
   "outputs": [
    {
     "data": {
      "image/png": "[encoded data removed]",
      "text/plain": [
       "<Figure size 864x288 with 2 Axes>"
      ]
     },
     "metadata": {
      "needs_background": "light"
     },
     "output_type": "display_data"
    }
   ],
   "source": [
    "fig, ax = plt.subplots(ncols=2, figsize=(12, 4))\n",
    "fig.suptitle('ROC curves for tuned models')\n",
    "\n",
    "RocCurveDisplay.from_estimator(model5_grid.best_estimator_, X_test, y_test,  ax = ax[0], label = 'Tuned Logistic Reg')\n",
    "RocCurveDisplay.from_estimator(model6_knn_grid.best_estimator_, X_test, y_test, ax = ax[0], label = 'Tuned kNN')\n",
    "RocCurveDisplay.from_estimator(model7_dt_grid.best_estimator_, X_test, y_test, ax = ax[0], label = 'Tuned D.T.')\n",
    "ax[0].set_title('ROC curves for label = 1')\n",
    "ax[0].grid()\n",
    "ax[0].plot(np.arange(0, 1.1, .1), np.arange(0, 1.1, .1), label = 'baseline');\n",
    "ax[0].legend();\n",
    "\n",
    "RocCurveDisplay.from_estimator(model5_grid.best_estimator_, X_test, y_test,  ax = ax[1], pos_label=0, label = 'Tuned Logistic Reg')\n",
    "RocCurveDisplay.from_estimator(model6_knn_grid.best_estimator_, X_test, y_test, ax = ax[1], pos_label=0, label = 'Tuned kNN')\n",
    "RocCurveDisplay.from_estimator(model7_dt_grid.best_estimator_, X_test, y_test, ax = ax[1], pos_label=0, label = 'Tuned D.T.')\n",
    "ax[1].set_title('ROC curves for label = 0')\n",
    "ax[1].grid()\n",
    "ax[1].plot(np.arange(0, 1.1, .1), np.arange(0, 1.1, .1), label = 'baseline');\n",
    "ax[1].legend();"
   ]
  },
  {
   "cell_type": "code",
   "execution_count": null,
   "metadata": {},
   "outputs": [],
   "source": []
  },
  {
   "cell_type": "markdown",
   "metadata": {},
   "source": [
    "### Conclusion"
   ]
  },
  {
   "cell_type": "markdown",
   "metadata": {},
   "source": [
    "All the tuned models are performing almost equally, while kNN has a tiny bit better F1 score. \n",
    "\n",
    "\n",
    "While all the models are doing good with target-class 'no' (a.k.a target-class = 0), only the kNN model has a non-zero F1-score for target class 'yes' (a.k.a. target-class = 1). The logistic regression and decision tree based have F1-score = 0 for target class 'yes'.\n",
    "\n",
    "##### I would recommend using kNN based model as it is able to do some amount of justice to target-class 1."
   ]
  },
  {
   "cell_type": "markdown",
   "metadata": {},
   "source": [
    "### Findings to non-technical audience"
   ]
  },
  {
   "cell_type": "markdown",
   "metadata": {},
   "source": [
    "The goal of the project is to provide a predictive tool to the Portuguese bank that lets them achieve the business objective: Given certain information about a customer, estimate with high confidence whether the customer will subscribe to the Term Deposit product or not.\n",
    "\n",
    "Our tool is able to estimate the customers who are 'not likely' to subscribe to the Term Deposit with a 94% confidence (based on target-class=0 F1 score of the recommended model). However, the tool currently only able to estimate the customers who are 'likely' to subscribe to the Term deposit with small confidence."
   ]
  },
  {
   "cell_type": "code",
   "execution_count": null,
   "metadata": {},
   "outputs": [],
   "source": []
  },
  {
   "cell_type": "markdown",
   "metadata": {},
   "source": [
    "### Next steps and recommendations"
   ]
  },
  {
   "cell_type": "markdown",
   "metadata": {},
   "source": [
    "1. Fine-tune the models further especially for target-class 'yes'. \n",
    "\n",
    "\n",
    "2. The exercise asked to use only the customer's personal information as the feature-set. There are other features related to campaigns. Build more models using these other features.\n",
    "\n",
    "\n",
    "3. Only 10% of the data has target-class 'yes' and the rest 90% is 'no'. Maybe, we should use the entire data for training and use the cross-validation scheme for testing, as opposed to keeping separate set for testing\n",
    "\n",
    "\n",
    "4. As we will learn in later modules, build ensemble techniques based models."
   ]
  },
  {
   "cell_type": "markdown",
   "metadata": {},
   "source": [
    "### Note\n",
    "\n",
    "#### I haven't performed Exploratory Data Analysis as the exercise already hand-picked a subset of features and asked to jump into modeling straight"
   ]
  },
  {
   "cell_type": "markdown",
   "metadata": {},
   "source": []
  }
 ],
 "metadata": {
  "kernelspec": {
   "display_name": "Python 3 (ipykernel)",
   "language": "python",
   "name": "python3"
  },
  "language_info": {
   "codemirror_mode": {
    "name": "ipython",
    "version": 3
   },
   "file_extension": ".py",
   "mimetype": "text/x-python",
   "name": "python",
   "nbconvert_exporter": "python",
   "pygments_lexer": "ipython3",
   "version": "3.9.12"
  },
  "widgets": {
   "application/vnd.jupyter.widget-state+json": {
    "state": {},
    "version_major": 2,
    "version_minor": 0
   }
  }
 },
 "nbformat": 4,
 "nbformat_minor": 4
}
